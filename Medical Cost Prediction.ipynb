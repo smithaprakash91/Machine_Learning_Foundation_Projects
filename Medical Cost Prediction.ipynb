{
 "cells": [
  {
   "cell_type": "markdown",
   "metadata": {},
   "source": [
    "## 1. Introduction \n",
    "\n",
    "#### XYZ Health Insurance Co. Ltd.\n",
    "**Company Introduction**\n",
    "\n",
    "**XYZ Health Insurance Co. Ltd.** is one of the prominent insurance providers in the country.\n",
    "Offering impressive health plans and services to cater to the needs of different people.\n",
    "The insurance company also provides access to fitness assessment centers, wellness centers, diagnostic centers in addition to hospitalization centers.\n"
   ]
  },
  {
   "cell_type": "markdown",
   "metadata": {},
   "source": [
    "**Current Scenario**\n",
    "\n",
    "The company is planning to introduce a new system that will help to easily monitor and predict the medical insurance prices of their customers.\n"
   ]
  },
  {
   "cell_type": "markdown",
   "metadata": {},
   "source": [
    "## 2. Problem Statement \n",
    "The current process suffers from the following problems:\n",
    "- The company uses manpower to predict the medical expenses of its insurers. Many factors are considered such as age, BMI, smoking habits, number of children, etc.\n",
    "- It is a time and resource-intensive process and many times, inaccurate.\n",
    "- The company plans to modernize its legacy systems and wants to implement an automated way of predicting the medical expenses of its insurers based on various factors."
   ]
  },
  {
   "cell_type": "markdown",
   "metadata": {},
   "source": [
    "## 3.  Project Deliverables\n",
    "\n",
    "- Deliverable: Predicts the medical charges of insurers.\n",
    "- Machine Learning Task: Regression\n",
    "- Target Variable: charges\n",
    "- Win Condition: N/A (best possible model)\n",
    "\n",
    "\n",
    "## 4.  Evaluation Metric\n",
    "- The model evaluation will be based on the R2 score."
   ]
  },
  {
   "cell_type": "markdown",
   "metadata": {},
   "source": [
    "\n",
    "\n",
    "The dataset has columns describing features such as age, BMI, smoking habit, the region where the insurer resides, and their number of children.\n",
    "\n",
    "Also included in the dataset is the column charges which indicates their medical charges\n",
    "\n",
    "This is the data that we have to predict for charges.\n",
    "\n",
    "The dataset is divided into two parts: Train and Test sets.\n",
    "\n",
    "Train Set:\n",
    "\n",
    "    The train set contains 1003 rows and 8 columns.\n",
    "    The last column charges is the target variable.\n",
    "\n",
    "\n",
    "Test Set:\n",
    "\n",
    "    The test set contains 335 rows and 7 columns.\n",
    "    The test set doesn’t contain the charges column.\n",
    "    It needs to be predicted for the test set.\n",
    "\n"
   ]
  },
  {
   "cell_type": "code",
   "execution_count": 1,
   "metadata": {},
   "outputs": [],
   "source": [
    "import pandas as pd\n",
    "import numpy as np\n",
    "import matplotlib.pyplot as plt\n",
    "import seaborn as sns"
   ]
  },
  {
   "cell_type": "markdown",
   "metadata": {},
   "source": [
    "### Dataset feature Description"
   ]
  },
  {
   "cell_type": "markdown",
   "metadata": {},
   "source": [
    "|**Column Name**|**Description**|\n",
    "|:--|:--\n",
    "|**age**|Indicates the age of the primary beneficiary|\n",
    "|**sex**|Indicates the gender of the insurance contractor|\n",
    "|**bmi**|Indicates the BMI of the beneficiary|\n",
    "|**children**|Indicates number of children covered by health insurance / Number of dependents|\n",
    "|**smoker**|Indicates whether the beneficiary has smoking habits?|\n",
    "|**region**|Indicates the region of residence of the beneficiary|\n",
    "|**id**|Indicates the unique beneficiary id|\n",
    "|**charges**|Indicates the individual medical costs billed by health insurance|"
   ]
  },
  {
   "cell_type": "code",
   "execution_count": 2,
   "metadata": {},
   "outputs": [
    {
     "data": {
      "text/plain": [
       "(1003, 8)"
      ]
     },
     "execution_count": 2,
     "metadata": {},
     "output_type": "execute_result"
    }
   ],
   "source": [
    "df_train= pd.read_csv('https://raw.githubusercontent.com/smithaprakash91/Machine_Learning_Foundation_Projects/main/train_data.csv')\n",
    "df_train.shape"
   ]
  },
  {
   "cell_type": "code",
   "execution_count": 3,
   "metadata": {},
   "outputs": [
    {
     "data": {
      "text/html": [
       "<div>\n",
       "<style scoped>\n",
       "    .dataframe tbody tr th:only-of-type {\n",
       "        vertical-align: middle;\n",
       "    }\n",
       "\n",
       "    .dataframe tbody tr th {\n",
       "        vertical-align: top;\n",
       "    }\n",
       "\n",
       "    .dataframe thead th {\n",
       "        text-align: right;\n",
       "    }\n",
       "</style>\n",
       "<table border=\"1\" class=\"dataframe\">\n",
       "  <thead>\n",
       "    <tr style=\"text-align: right;\">\n",
       "      <th></th>\n",
       "      <th>age</th>\n",
       "      <th>sex</th>\n",
       "      <th>bmi</th>\n",
       "      <th>children</th>\n",
       "      <th>smoker</th>\n",
       "      <th>region</th>\n",
       "      <th>id</th>\n",
       "      <th>charges</th>\n",
       "    </tr>\n",
       "  </thead>\n",
       "  <tbody>\n",
       "    <tr>\n",
       "      <th>0</th>\n",
       "      <td>24</td>\n",
       "      <td>male</td>\n",
       "      <td>23.655</td>\n",
       "      <td>0</td>\n",
       "      <td>no</td>\n",
       "      <td>northwest</td>\n",
       "      <td>693</td>\n",
       "      <td>2352.96845</td>\n",
       "    </tr>\n",
       "    <tr>\n",
       "      <th>1</th>\n",
       "      <td>28</td>\n",
       "      <td>female</td>\n",
       "      <td>26.510</td>\n",
       "      <td>2</td>\n",
       "      <td>no</td>\n",
       "      <td>southeast</td>\n",
       "      <td>1297</td>\n",
       "      <td>4340.44090</td>\n",
       "    </tr>\n",
       "    <tr>\n",
       "      <th>2</th>\n",
       "      <td>51</td>\n",
       "      <td>male</td>\n",
       "      <td>39.700</td>\n",
       "      <td>1</td>\n",
       "      <td>no</td>\n",
       "      <td>southwest</td>\n",
       "      <td>634</td>\n",
       "      <td>9391.34600</td>\n",
       "    </tr>\n",
       "    <tr>\n",
       "      <th>3</th>\n",
       "      <td>47</td>\n",
       "      <td>male</td>\n",
       "      <td>36.080</td>\n",
       "      <td>1</td>\n",
       "      <td>yes</td>\n",
       "      <td>southeast</td>\n",
       "      <td>1022</td>\n",
       "      <td>42211.13820</td>\n",
       "    </tr>\n",
       "  </tbody>\n",
       "</table>\n",
       "</div>"
      ],
      "text/plain": [
       "   age     sex     bmi  children smoker     region    id      charges\n",
       "0   24    male  23.655         0     no  northwest   693   2352.96845\n",
       "1   28  female  26.510         2     no  southeast  1297   4340.44090\n",
       "2   51    male  39.700         1     no  southwest   634   9391.34600\n",
       "3   47    male  36.080         1    yes  southeast  1022  42211.13820"
      ]
     },
     "execution_count": 3,
     "metadata": {},
     "output_type": "execute_result"
    }
   ],
   "source": [
    "df_train.head(4)"
   ]
  },
  {
   "cell_type": "code",
   "execution_count": 4,
   "metadata": {},
   "outputs": [
    {
     "data": {
      "text/plain": [
       "(335, 7)"
      ]
     },
     "execution_count": 4,
     "metadata": {},
     "output_type": "execute_result"
    }
   ],
   "source": [
    "df_test=pd.read_csv('https://raw.githubusercontent.com/smithaprakash91/Machine_Learning_Foundation_Projects/main/test_data.csv')\n",
    "df_test.shape"
   ]
  },
  {
   "cell_type": "code",
   "execution_count": 5,
   "metadata": {},
   "outputs": [
    {
     "data": {
      "text/html": [
       "<div>\n",
       "<style scoped>\n",
       "    .dataframe tbody tr th:only-of-type {\n",
       "        vertical-align: middle;\n",
       "    }\n",
       "\n",
       "    .dataframe tbody tr th {\n",
       "        vertical-align: top;\n",
       "    }\n",
       "\n",
       "    .dataframe thead th {\n",
       "        text-align: right;\n",
       "    }\n",
       "</style>\n",
       "<table border=\"1\" class=\"dataframe\">\n",
       "  <thead>\n",
       "    <tr style=\"text-align: right;\">\n",
       "      <th></th>\n",
       "      <th>age</th>\n",
       "      <th>sex</th>\n",
       "      <th>bmi</th>\n",
       "      <th>children</th>\n",
       "      <th>smoker</th>\n",
       "      <th>region</th>\n",
       "      <th>id</th>\n",
       "    </tr>\n",
       "  </thead>\n",
       "  <tbody>\n",
       "    <tr>\n",
       "      <th>0</th>\n",
       "      <td>45</td>\n",
       "      <td>female</td>\n",
       "      <td>25.175</td>\n",
       "      <td>2</td>\n",
       "      <td>no</td>\n",
       "      <td>northeast</td>\n",
       "      <td>764</td>\n",
       "    </tr>\n",
       "    <tr>\n",
       "      <th>1</th>\n",
       "      <td>36</td>\n",
       "      <td>female</td>\n",
       "      <td>30.020</td>\n",
       "      <td>0</td>\n",
       "      <td>no</td>\n",
       "      <td>northwest</td>\n",
       "      <td>887</td>\n",
       "    </tr>\n",
       "    <tr>\n",
       "      <th>2</th>\n",
       "      <td>64</td>\n",
       "      <td>female</td>\n",
       "      <td>26.885</td>\n",
       "      <td>0</td>\n",
       "      <td>yes</td>\n",
       "      <td>northwest</td>\n",
       "      <td>890</td>\n",
       "    </tr>\n",
       "    <tr>\n",
       "      <th>3</th>\n",
       "      <td>46</td>\n",
       "      <td>male</td>\n",
       "      <td>25.745</td>\n",
       "      <td>3</td>\n",
       "      <td>no</td>\n",
       "      <td>northwest</td>\n",
       "      <td>1293</td>\n",
       "    </tr>\n",
       "  </tbody>\n",
       "</table>\n",
       "</div>"
      ],
      "text/plain": [
       "   age     sex     bmi  children smoker     region    id\n",
       "0   45  female  25.175         2     no  northeast   764\n",
       "1   36  female  30.020         0     no  northwest   887\n",
       "2   64  female  26.885         0    yes  northwest   890\n",
       "3   46    male  25.745         3     no  northwest  1293"
      ]
     },
     "execution_count": 5,
     "metadata": {},
     "output_type": "execute_result"
    }
   ],
   "source": [
    "df_test.head(4)"
   ]
  },
  {
   "cell_type": "code",
   "execution_count": 6,
   "metadata": {},
   "outputs": [
    {
     "name": "stdout",
     "output_type": "stream",
     "text": [
      "<class 'pandas.core.frame.DataFrame'>\n",
      "RangeIndex: 1003 entries, 0 to 1002\n",
      "Data columns (total 8 columns):\n",
      " #   Column    Non-Null Count  Dtype  \n",
      "---  ------    --------------  -----  \n",
      " 0   age       1003 non-null   int64  \n",
      " 1   sex       1003 non-null   object \n",
      " 2   bmi       1003 non-null   float64\n",
      " 3   children  1003 non-null   int64  \n",
      " 4   smoker    1003 non-null   object \n",
      " 5   region    1003 non-null   object \n",
      " 6   id        1003 non-null   int64  \n",
      " 7   charges   1003 non-null   float64\n",
      "dtypes: float64(2), int64(3), object(3)\n",
      "memory usage: 62.8+ KB\n"
     ]
    }
   ],
   "source": [
    "df_train.info()"
   ]
  },
  {
   "cell_type": "code",
   "execution_count": 7,
   "metadata": {},
   "outputs": [
    {
     "name": "stdout",
     "output_type": "stream",
     "text": [
      "<class 'pandas.core.frame.DataFrame'>\n",
      "RangeIndex: 335 entries, 0 to 334\n",
      "Data columns (total 7 columns):\n",
      " #   Column    Non-Null Count  Dtype  \n",
      "---  ------    --------------  -----  \n",
      " 0   age       335 non-null    int64  \n",
      " 1   sex       335 non-null    object \n",
      " 2   bmi       335 non-null    float64\n",
      " 3   children  335 non-null    int64  \n",
      " 4   smoker    335 non-null    object \n",
      " 5   region    335 non-null    object \n",
      " 6   id        335 non-null    int64  \n",
      "dtypes: float64(1), int64(3), object(3)\n",
      "memory usage: 18.4+ KB\n"
     ]
    }
   ],
   "source": [
    "df_test.info()"
   ]
  },
  {
   "cell_type": "code",
   "execution_count": 8,
   "metadata": {},
   "outputs": [
    {
     "data": {
      "text/plain": [
       "age         0\n",
       "sex         0\n",
       "bmi         0\n",
       "children    0\n",
       "smoker      0\n",
       "region      0\n",
       "id          0\n",
       "charges     0\n",
       "dtype: int64"
      ]
     },
     "execution_count": 8,
     "metadata": {},
     "output_type": "execute_result"
    }
   ],
   "source": [
    "df_train.isnull().sum()"
   ]
  },
  {
   "cell_type": "code",
   "execution_count": 9,
   "metadata": {},
   "outputs": [
    {
     "data": {
      "text/plain": [
       "age         0\n",
       "sex         0\n",
       "bmi         0\n",
       "children    0\n",
       "smoker      0\n",
       "region      0\n",
       "id          0\n",
       "dtype: int64"
      ]
     },
     "execution_count": 9,
     "metadata": {},
     "output_type": "execute_result"
    }
   ],
   "source": [
    "df_test.isnull().sum()"
   ]
  },
  {
   "cell_type": "code",
   "execution_count": 10,
   "metadata": {},
   "outputs": [
    {
     "data": {
      "text/html": [
       "<div>\n",
       "<style scoped>\n",
       "    .dataframe tbody tr th:only-of-type {\n",
       "        vertical-align: middle;\n",
       "    }\n",
       "\n",
       "    .dataframe tbody tr th {\n",
       "        vertical-align: top;\n",
       "    }\n",
       "\n",
       "    .dataframe thead th {\n",
       "        text-align: right;\n",
       "    }\n",
       "</style>\n",
       "<table border=\"1\" class=\"dataframe\">\n",
       "  <thead>\n",
       "    <tr style=\"text-align: right;\">\n",
       "      <th></th>\n",
       "      <th>age</th>\n",
       "      <th>sex</th>\n",
       "      <th>bmi</th>\n",
       "      <th>children</th>\n",
       "      <th>smoker</th>\n",
       "      <th>region</th>\n",
       "      <th>id</th>\n",
       "      <th>charges</th>\n",
       "    </tr>\n",
       "  </thead>\n",
       "  <tbody>\n",
       "    <tr>\n",
       "      <th>count</th>\n",
       "      <td>1003.000000</td>\n",
       "      <td>1003</td>\n",
       "      <td>1003.000000</td>\n",
       "      <td>1003.000000</td>\n",
       "      <td>1003</td>\n",
       "      <td>1003</td>\n",
       "      <td>1003.000000</td>\n",
       "      <td>1003.000000</td>\n",
       "    </tr>\n",
       "    <tr>\n",
       "      <th>unique</th>\n",
       "      <td>NaN</td>\n",
       "      <td>2</td>\n",
       "      <td>NaN</td>\n",
       "      <td>NaN</td>\n",
       "      <td>2</td>\n",
       "      <td>4</td>\n",
       "      <td>NaN</td>\n",
       "      <td>NaN</td>\n",
       "    </tr>\n",
       "    <tr>\n",
       "      <th>top</th>\n",
       "      <td>NaN</td>\n",
       "      <td>male</td>\n",
       "      <td>NaN</td>\n",
       "      <td>NaN</td>\n",
       "      <td>no</td>\n",
       "      <td>southeast</td>\n",
       "      <td>NaN</td>\n",
       "      <td>NaN</td>\n",
       "    </tr>\n",
       "    <tr>\n",
       "      <th>freq</th>\n",
       "      <td>NaN</td>\n",
       "      <td>506</td>\n",
       "      <td>NaN</td>\n",
       "      <td>NaN</td>\n",
       "      <td>797</td>\n",
       "      <td>259</td>\n",
       "      <td>NaN</td>\n",
       "      <td>NaN</td>\n",
       "    </tr>\n",
       "    <tr>\n",
       "      <th>mean</th>\n",
       "      <td>39.255234</td>\n",
       "      <td>NaN</td>\n",
       "      <td>30.511780</td>\n",
       "      <td>1.104686</td>\n",
       "      <td>NaN</td>\n",
       "      <td>NaN</td>\n",
       "      <td>666.874377</td>\n",
       "      <td>13267.935817</td>\n",
       "    </tr>\n",
       "    <tr>\n",
       "      <th>std</th>\n",
       "      <td>14.039105</td>\n",
       "      <td>NaN</td>\n",
       "      <td>6.013107</td>\n",
       "      <td>1.204619</td>\n",
       "      <td>NaN</td>\n",
       "      <td>NaN</td>\n",
       "      <td>386.570442</td>\n",
       "      <td>12051.356547</td>\n",
       "    </tr>\n",
       "    <tr>\n",
       "      <th>min</th>\n",
       "      <td>18.000000</td>\n",
       "      <td>NaN</td>\n",
       "      <td>15.960000</td>\n",
       "      <td>0.000000</td>\n",
       "      <td>NaN</td>\n",
       "      <td>NaN</td>\n",
       "      <td>0.000000</td>\n",
       "      <td>1121.873900</td>\n",
       "    </tr>\n",
       "    <tr>\n",
       "      <th>25%</th>\n",
       "      <td>27.000000</td>\n",
       "      <td>NaN</td>\n",
       "      <td>26.210000</td>\n",
       "      <td>0.000000</td>\n",
       "      <td>NaN</td>\n",
       "      <td>NaN</td>\n",
       "      <td>329.500000</td>\n",
       "      <td>4780.839400</td>\n",
       "    </tr>\n",
       "    <tr>\n",
       "      <th>50%</th>\n",
       "      <td>39.000000</td>\n",
       "      <td>NaN</td>\n",
       "      <td>30.200000</td>\n",
       "      <td>1.000000</td>\n",
       "      <td>NaN</td>\n",
       "      <td>NaN</td>\n",
       "      <td>675.000000</td>\n",
       "      <td>9447.382400</td>\n",
       "    </tr>\n",
       "    <tr>\n",
       "      <th>75%</th>\n",
       "      <td>51.000000</td>\n",
       "      <td>NaN</td>\n",
       "      <td>34.430000</td>\n",
       "      <td>2.000000</td>\n",
       "      <td>NaN</td>\n",
       "      <td>NaN</td>\n",
       "      <td>1001.500000</td>\n",
       "      <td>16840.667970</td>\n",
       "    </tr>\n",
       "    <tr>\n",
       "      <th>max</th>\n",
       "      <td>64.000000</td>\n",
       "      <td>NaN</td>\n",
       "      <td>53.130000</td>\n",
       "      <td>5.000000</td>\n",
       "      <td>NaN</td>\n",
       "      <td>NaN</td>\n",
       "      <td>1337.000000</td>\n",
       "      <td>62592.873090</td>\n",
       "    </tr>\n",
       "  </tbody>\n",
       "</table>\n",
       "</div>"
      ],
      "text/plain": [
       "                age   sex          bmi     children smoker     region  \\\n",
       "count   1003.000000  1003  1003.000000  1003.000000   1003       1003   \n",
       "unique          NaN     2          NaN          NaN      2          4   \n",
       "top             NaN  male          NaN          NaN     no  southeast   \n",
       "freq            NaN   506          NaN          NaN    797        259   \n",
       "mean      39.255234   NaN    30.511780     1.104686    NaN        NaN   \n",
       "std       14.039105   NaN     6.013107     1.204619    NaN        NaN   \n",
       "min       18.000000   NaN    15.960000     0.000000    NaN        NaN   \n",
       "25%       27.000000   NaN    26.210000     0.000000    NaN        NaN   \n",
       "50%       39.000000   NaN    30.200000     1.000000    NaN        NaN   \n",
       "75%       51.000000   NaN    34.430000     2.000000    NaN        NaN   \n",
       "max       64.000000   NaN    53.130000     5.000000    NaN        NaN   \n",
       "\n",
       "                 id       charges  \n",
       "count   1003.000000   1003.000000  \n",
       "unique          NaN           NaN  \n",
       "top             NaN           NaN  \n",
       "freq            NaN           NaN  \n",
       "mean     666.874377  13267.935817  \n",
       "std      386.570442  12051.356547  \n",
       "min        0.000000   1121.873900  \n",
       "25%      329.500000   4780.839400  \n",
       "50%      675.000000   9447.382400  \n",
       "75%     1001.500000  16840.667970  \n",
       "max     1337.000000  62592.873090  "
      ]
     },
     "execution_count": 10,
     "metadata": {},
     "output_type": "execute_result"
    }
   ],
   "source": [
    "df_train.describe(include='all')"
   ]
  },
  {
   "cell_type": "code",
   "execution_count": 11,
   "metadata": {},
   "outputs": [
    {
     "data": {
      "text/plain": [
       "age           int64\n",
       "sex          object\n",
       "bmi         float64\n",
       "children      int64\n",
       "smoker       object\n",
       "region       object\n",
       "id            int64\n",
       "charges     float64\n",
       "dtype: object"
      ]
     },
     "execution_count": 11,
     "metadata": {},
     "output_type": "execute_result"
    }
   ],
   "source": [
    "df_train.dtypes"
   ]
  },
  {
   "cell_type": "code",
   "execution_count": 12,
   "metadata": {},
   "outputs": [
    {
     "data": {
      "text/plain": [
       "male      506\n",
       "female    497\n",
       "Name: sex, dtype: int64"
      ]
     },
     "execution_count": 12,
     "metadata": {},
     "output_type": "execute_result"
    }
   ],
   "source": [
    "df_train['sex'].value_counts()"
   ]
  },
  {
   "cell_type": "code",
   "execution_count": 13,
   "metadata": {},
   "outputs": [
    {
     "data": {
      "text/plain": [
       "no     797\n",
       "yes    206\n",
       "Name: smoker, dtype: int64"
      ]
     },
     "execution_count": 13,
     "metadata": {},
     "output_type": "execute_result"
    }
   ],
   "source": [
    "df_train['smoker'].value_counts()"
   ]
  },
  {
   "cell_type": "code",
   "execution_count": 14,
   "metadata": {},
   "outputs": [
    {
     "data": {
      "text/plain": [
       "southeast    259\n",
       "northeast    251\n",
       "southwest    247\n",
       "northwest    246\n",
       "Name: region, dtype: int64"
      ]
     },
     "execution_count": 14,
     "metadata": {},
     "output_type": "execute_result"
    }
   ],
   "source": [
    "df_train['region'].value_counts()"
   ]
  },
  {
   "cell_type": "code",
   "execution_count": 15,
   "metadata": {},
   "outputs": [],
   "source": [
    "df_train_copy = df_train.copy()"
   ]
  },
  {
   "cell_type": "code",
   "execution_count": 16,
   "metadata": {},
   "outputs": [],
   "source": [
    "#Converting catagorical values into numeric\n",
    "\n",
    "new_data = {'sex':{'male': 0, 'female': 1},\n",
    "           'smoker':{'no':0, 'yes':1},\n",
    "           'region':{'southeast':0, 'northeast':1,'southwest':2,'northwest':3}}\n"
   ]
  },
  {
   "cell_type": "code",
   "execution_count": 17,
   "metadata": {},
   "outputs": [],
   "source": [
    "df_train_copy = df_train.copy()\n",
    "df_train_copy.replace(new_data, inplace=True)"
   ]
  },
  {
   "cell_type": "code",
   "execution_count": 18,
   "metadata": {},
   "outputs": [
    {
     "data": {
      "text/html": [
       "<div>\n",
       "<style scoped>\n",
       "    .dataframe tbody tr th:only-of-type {\n",
       "        vertical-align: middle;\n",
       "    }\n",
       "\n",
       "    .dataframe tbody tr th {\n",
       "        vertical-align: top;\n",
       "    }\n",
       "\n",
       "    .dataframe thead th {\n",
       "        text-align: right;\n",
       "    }\n",
       "</style>\n",
       "<table border=\"1\" class=\"dataframe\">\n",
       "  <thead>\n",
       "    <tr style=\"text-align: right;\">\n",
       "      <th></th>\n",
       "      <th>age</th>\n",
       "      <th>sex</th>\n",
       "      <th>bmi</th>\n",
       "      <th>children</th>\n",
       "      <th>smoker</th>\n",
       "      <th>region</th>\n",
       "      <th>id</th>\n",
       "      <th>charges</th>\n",
       "    </tr>\n",
       "  </thead>\n",
       "  <tbody>\n",
       "    <tr>\n",
       "      <th>0</th>\n",
       "      <td>24</td>\n",
       "      <td>0</td>\n",
       "      <td>23.655</td>\n",
       "      <td>0</td>\n",
       "      <td>0</td>\n",
       "      <td>3</td>\n",
       "      <td>693</td>\n",
       "      <td>2352.96845</td>\n",
       "    </tr>\n",
       "    <tr>\n",
       "      <th>1</th>\n",
       "      <td>28</td>\n",
       "      <td>1</td>\n",
       "      <td>26.510</td>\n",
       "      <td>2</td>\n",
       "      <td>0</td>\n",
       "      <td>0</td>\n",
       "      <td>1297</td>\n",
       "      <td>4340.44090</td>\n",
       "    </tr>\n",
       "    <tr>\n",
       "      <th>2</th>\n",
       "      <td>51</td>\n",
       "      <td>0</td>\n",
       "      <td>39.700</td>\n",
       "      <td>1</td>\n",
       "      <td>0</td>\n",
       "      <td>2</td>\n",
       "      <td>634</td>\n",
       "      <td>9391.34600</td>\n",
       "    </tr>\n",
       "    <tr>\n",
       "      <th>3</th>\n",
       "      <td>47</td>\n",
       "      <td>0</td>\n",
       "      <td>36.080</td>\n",
       "      <td>1</td>\n",
       "      <td>1</td>\n",
       "      <td>0</td>\n",
       "      <td>1022</td>\n",
       "      <td>42211.13820</td>\n",
       "    </tr>\n",
       "    <tr>\n",
       "      <th>4</th>\n",
       "      <td>46</td>\n",
       "      <td>1</td>\n",
       "      <td>28.900</td>\n",
       "      <td>2</td>\n",
       "      <td>0</td>\n",
       "      <td>2</td>\n",
       "      <td>178</td>\n",
       "      <td>8823.27900</td>\n",
       "    </tr>\n",
       "  </tbody>\n",
       "</table>\n",
       "</div>"
      ],
      "text/plain": [
       "   age  sex     bmi  children  smoker  region    id      charges\n",
       "0   24    0  23.655         0       0       3   693   2352.96845\n",
       "1   28    1  26.510         2       0       0  1297   4340.44090\n",
       "2   51    0  39.700         1       0       2   634   9391.34600\n",
       "3   47    0  36.080         1       1       0  1022  42211.13820\n",
       "4   46    1  28.900         2       0       2   178   8823.27900"
      ]
     },
     "execution_count": 18,
     "metadata": {},
     "output_type": "execute_result"
    }
   ],
   "source": [
    "df_train_copy.head()"
   ]
  },
  {
   "cell_type": "code",
   "execution_count": 19,
   "metadata": {},
   "outputs": [
    {
     "data": {
      "text/html": [
       "<div>\n",
       "<style scoped>\n",
       "    .dataframe tbody tr th:only-of-type {\n",
       "        vertical-align: middle;\n",
       "    }\n",
       "\n",
       "    .dataframe tbody tr th {\n",
       "        vertical-align: top;\n",
       "    }\n",
       "\n",
       "    .dataframe thead th {\n",
       "        text-align: right;\n",
       "    }\n",
       "</style>\n",
       "<table border=\"1\" class=\"dataframe\">\n",
       "  <thead>\n",
       "    <tr style=\"text-align: right;\">\n",
       "      <th></th>\n",
       "      <th>age</th>\n",
       "      <th>sex</th>\n",
       "      <th>bmi</th>\n",
       "      <th>children</th>\n",
       "      <th>smoker</th>\n",
       "      <th>region</th>\n",
       "      <th>id</th>\n",
       "      <th>charges</th>\n",
       "    </tr>\n",
       "  </thead>\n",
       "  <tbody>\n",
       "    <tr>\n",
       "      <th>count</th>\n",
       "      <td>1003.000000</td>\n",
       "      <td>1003.000000</td>\n",
       "      <td>1003.000000</td>\n",
       "      <td>1003.000000</td>\n",
       "      <td>1003.000000</td>\n",
       "      <td>1003.000000</td>\n",
       "      <td>1003.000000</td>\n",
       "      <td>1003.000000</td>\n",
       "    </tr>\n",
       "    <tr>\n",
       "      <th>mean</th>\n",
       "      <td>39.255234</td>\n",
       "      <td>0.495513</td>\n",
       "      <td>30.511780</td>\n",
       "      <td>1.104686</td>\n",
       "      <td>0.205384</td>\n",
       "      <td>1.478564</td>\n",
       "      <td>666.874377</td>\n",
       "      <td>13267.935817</td>\n",
       "    </tr>\n",
       "    <tr>\n",
       "      <th>std</th>\n",
       "      <td>14.039105</td>\n",
       "      <td>0.500229</td>\n",
       "      <td>6.013107</td>\n",
       "      <td>1.204619</td>\n",
       "      <td>0.404183</td>\n",
       "      <td>1.121505</td>\n",
       "      <td>386.570442</td>\n",
       "      <td>12051.356547</td>\n",
       "    </tr>\n",
       "    <tr>\n",
       "      <th>min</th>\n",
       "      <td>18.000000</td>\n",
       "      <td>0.000000</td>\n",
       "      <td>15.960000</td>\n",
       "      <td>0.000000</td>\n",
       "      <td>0.000000</td>\n",
       "      <td>0.000000</td>\n",
       "      <td>0.000000</td>\n",
       "      <td>1121.873900</td>\n",
       "    </tr>\n",
       "    <tr>\n",
       "      <th>25%</th>\n",
       "      <td>27.000000</td>\n",
       "      <td>0.000000</td>\n",
       "      <td>26.210000</td>\n",
       "      <td>0.000000</td>\n",
       "      <td>0.000000</td>\n",
       "      <td>0.000000</td>\n",
       "      <td>329.500000</td>\n",
       "      <td>4780.839400</td>\n",
       "    </tr>\n",
       "    <tr>\n",
       "      <th>50%</th>\n",
       "      <td>39.000000</td>\n",
       "      <td>0.000000</td>\n",
       "      <td>30.200000</td>\n",
       "      <td>1.000000</td>\n",
       "      <td>0.000000</td>\n",
       "      <td>1.000000</td>\n",
       "      <td>675.000000</td>\n",
       "      <td>9447.382400</td>\n",
       "    </tr>\n",
       "    <tr>\n",
       "      <th>75%</th>\n",
       "      <td>51.000000</td>\n",
       "      <td>1.000000</td>\n",
       "      <td>34.430000</td>\n",
       "      <td>2.000000</td>\n",
       "      <td>0.000000</td>\n",
       "      <td>2.000000</td>\n",
       "      <td>1001.500000</td>\n",
       "      <td>16840.667970</td>\n",
       "    </tr>\n",
       "    <tr>\n",
       "      <th>max</th>\n",
       "      <td>64.000000</td>\n",
       "      <td>1.000000</td>\n",
       "      <td>53.130000</td>\n",
       "      <td>5.000000</td>\n",
       "      <td>1.000000</td>\n",
       "      <td>3.000000</td>\n",
       "      <td>1337.000000</td>\n",
       "      <td>62592.873090</td>\n",
       "    </tr>\n",
       "  </tbody>\n",
       "</table>\n",
       "</div>"
      ],
      "text/plain": [
       "               age          sex          bmi     children       smoker  \\\n",
       "count  1003.000000  1003.000000  1003.000000  1003.000000  1003.000000   \n",
       "mean     39.255234     0.495513    30.511780     1.104686     0.205384   \n",
       "std      14.039105     0.500229     6.013107     1.204619     0.404183   \n",
       "min      18.000000     0.000000    15.960000     0.000000     0.000000   \n",
       "25%      27.000000     0.000000    26.210000     0.000000     0.000000   \n",
       "50%      39.000000     0.000000    30.200000     1.000000     0.000000   \n",
       "75%      51.000000     1.000000    34.430000     2.000000     0.000000   \n",
       "max      64.000000     1.000000    53.130000     5.000000     1.000000   \n",
       "\n",
       "            region           id       charges  \n",
       "count  1003.000000  1003.000000   1003.000000  \n",
       "mean      1.478564   666.874377  13267.935817  \n",
       "std       1.121505   386.570442  12051.356547  \n",
       "min       0.000000     0.000000   1121.873900  \n",
       "25%       0.000000   329.500000   4780.839400  \n",
       "50%       1.000000   675.000000   9447.382400  \n",
       "75%       2.000000  1001.500000  16840.667970  \n",
       "max       3.000000  1337.000000  62592.873090  "
      ]
     },
     "execution_count": 19,
     "metadata": {},
     "output_type": "execute_result"
    }
   ],
   "source": [
    "df_train_copy.describe()"
   ]
  },
  {
   "cell_type": "code",
   "execution_count": 20,
   "metadata": {},
   "outputs": [
    {
     "data": {
      "text/html": [
       "<div>\n",
       "<style scoped>\n",
       "    .dataframe tbody tr th:only-of-type {\n",
       "        vertical-align: middle;\n",
       "    }\n",
       "\n",
       "    .dataframe tbody tr th {\n",
       "        vertical-align: top;\n",
       "    }\n",
       "\n",
       "    .dataframe thead th {\n",
       "        text-align: right;\n",
       "    }\n",
       "</style>\n",
       "<table border=\"1\" class=\"dataframe\">\n",
       "  <thead>\n",
       "    <tr style=\"text-align: right;\">\n",
       "      <th></th>\n",
       "      <th>age</th>\n",
       "      <th>sex</th>\n",
       "      <th>bmi</th>\n",
       "      <th>children</th>\n",
       "      <th>smoker</th>\n",
       "      <th>region</th>\n",
       "      <th>id</th>\n",
       "      <th>charges</th>\n",
       "    </tr>\n",
       "  </thead>\n",
       "  <tbody>\n",
       "    <tr>\n",
       "      <th>age</th>\n",
       "      <td>1.000000</td>\n",
       "      <td>0.012385</td>\n",
       "      <td>0.111325</td>\n",
       "      <td>0.055070</td>\n",
       "      <td>-0.037916</td>\n",
       "      <td>0.029759</td>\n",
       "      <td>-0.031710</td>\n",
       "      <td>0.293434</td>\n",
       "    </tr>\n",
       "    <tr>\n",
       "      <th>sex</th>\n",
       "      <td>0.012385</td>\n",
       "      <td>1.000000</td>\n",
       "      <td>-0.001931</td>\n",
       "      <td>-0.016610</td>\n",
       "      <td>-0.054671</td>\n",
       "      <td>-0.028190</td>\n",
       "      <td>0.020615</td>\n",
       "      <td>-0.043353</td>\n",
       "    </tr>\n",
       "    <tr>\n",
       "      <th>bmi</th>\n",
       "      <td>0.111325</td>\n",
       "      <td>-0.001931</td>\n",
       "      <td>1.000000</td>\n",
       "      <td>-0.003459</td>\n",
       "      <td>-0.001499</td>\n",
       "      <td>-0.168348</td>\n",
       "      <td>-0.028038</td>\n",
       "      <td>0.195828</td>\n",
       "    </tr>\n",
       "    <tr>\n",
       "      <th>children</th>\n",
       "      <td>0.055070</td>\n",
       "      <td>-0.016610</td>\n",
       "      <td>-0.003459</td>\n",
       "      <td>1.000000</td>\n",
       "      <td>0.025488</td>\n",
       "      <td>0.036752</td>\n",
       "      <td>0.034752</td>\n",
       "      <td>0.079823</td>\n",
       "    </tr>\n",
       "    <tr>\n",
       "      <th>smoker</th>\n",
       "      <td>-0.037916</td>\n",
       "      <td>-0.054671</td>\n",
       "      <td>-0.001499</td>\n",
       "      <td>0.025488</td>\n",
       "      <td>1.000000</td>\n",
       "      <td>-0.051925</td>\n",
       "      <td>0.024316</td>\n",
       "      <td>0.781981</td>\n",
       "    </tr>\n",
       "    <tr>\n",
       "      <th>region</th>\n",
       "      <td>0.029759</td>\n",
       "      <td>-0.028190</td>\n",
       "      <td>-0.168348</td>\n",
       "      <td>0.036752</td>\n",
       "      <td>-0.051925</td>\n",
       "      <td>1.000000</td>\n",
       "      <td>0.003401</td>\n",
       "      <td>-0.054976</td>\n",
       "    </tr>\n",
       "    <tr>\n",
       "      <th>id</th>\n",
       "      <td>-0.031710</td>\n",
       "      <td>0.020615</td>\n",
       "      <td>-0.028038</td>\n",
       "      <td>0.034752</td>\n",
       "      <td>0.024316</td>\n",
       "      <td>0.003401</td>\n",
       "      <td>1.000000</td>\n",
       "      <td>0.025468</td>\n",
       "    </tr>\n",
       "    <tr>\n",
       "      <th>charges</th>\n",
       "      <td>0.293434</td>\n",
       "      <td>-0.043353</td>\n",
       "      <td>0.195828</td>\n",
       "      <td>0.079823</td>\n",
       "      <td>0.781981</td>\n",
       "      <td>-0.054976</td>\n",
       "      <td>0.025468</td>\n",
       "      <td>1.000000</td>\n",
       "    </tr>\n",
       "  </tbody>\n",
       "</table>\n",
       "</div>"
      ],
      "text/plain": [
       "               age       sex       bmi  children    smoker    region  \\\n",
       "age       1.000000  0.012385  0.111325  0.055070 -0.037916  0.029759   \n",
       "sex       0.012385  1.000000 -0.001931 -0.016610 -0.054671 -0.028190   \n",
       "bmi       0.111325 -0.001931  1.000000 -0.003459 -0.001499 -0.168348   \n",
       "children  0.055070 -0.016610 -0.003459  1.000000  0.025488  0.036752   \n",
       "smoker   -0.037916 -0.054671 -0.001499  0.025488  1.000000 -0.051925   \n",
       "region    0.029759 -0.028190 -0.168348  0.036752 -0.051925  1.000000   \n",
       "id       -0.031710  0.020615 -0.028038  0.034752  0.024316  0.003401   \n",
       "charges   0.293434 -0.043353  0.195828  0.079823  0.781981 -0.054976   \n",
       "\n",
       "                id   charges  \n",
       "age      -0.031710  0.293434  \n",
       "sex       0.020615 -0.043353  \n",
       "bmi      -0.028038  0.195828  \n",
       "children  0.034752  0.079823  \n",
       "smoker    0.024316  0.781981  \n",
       "region    0.003401 -0.054976  \n",
       "id        1.000000  0.025468  \n",
       "charges   0.025468  1.000000  "
      ]
     },
     "execution_count": 20,
     "metadata": {},
     "output_type": "execute_result"
    }
   ],
   "source": [
    "x= df_train_copy.corr()\n",
    "x"
   ]
  },
  {
   "cell_type": "code",
   "execution_count": 21,
   "metadata": {},
   "outputs": [
    {
     "data": {
      "text/plain": [
       "<matplotlib.axes._subplots.AxesSubplot at 0xb83fb20>"
      ]
     },
     "execution_count": 21,
     "metadata": {},
     "output_type": "execute_result"
    },
    {
     "data": {
      "image/png": "[encoded data removed]",
      "text/plain": [
       "<Figure size 720x576 with 2 Axes>"
      ]
     },
     "metadata": {
      "needs_background": "light"
     },
     "output_type": "display_data"
    }
   ],
   "source": [
    "import seaborn as sns\n",
    "plt.figure(figsize=(10,8))\n",
    "sns.heatmap(x, annot=True, cmap='BuPu')"
   ]
  },
  {
   "cell_type": "markdown",
   "metadata": {},
   "source": [
    "###### Impact on health and life insurance premium\n",
    "- Since smokers pose a greater risk of contacting this wide array of diseases mentioned above, it makes them more prone to health complications\n",
    "- Most insurers will charge a higher premium amount for smokers compared to non-smokers\n",
    "- Smokers are highly related with insurance charges"
   ]
  },
  {
   "cell_type": "code",
   "execution_count": 22,
   "metadata": {},
   "outputs": [
    {
     "name": "stdout",
     "output_type": "stream",
     "text": [
      "female    497\n",
      "male      506\n",
      "Name: sex, dtype: int64\n",
      "yes    206\n",
      "no     797\n",
      "Name: smoker, dtype: int64\n",
      "northwest    246\n",
      "southwest    247\n",
      "northeast    251\n",
      "southeast    259\n",
      "Name: region, dtype: int64\n"
     ]
    }
   ],
   "source": [
    "print(df_train['sex'].value_counts().sort_values()) \n",
    "print(df_train['smoker'].value_counts().sort_values())\n",
    "print(df_train['region'].value_counts().sort_values())"
   ]
  },
  {
   "cell_type": "markdown",
   "metadata": {},
   "source": [
    "#### 1. Region"
   ]
  },
  {
   "cell_type": "markdown",
   "metadata": {},
   "source": [
    "###### A. Which region has the most number of beneficiaries in the training set?"
   ]
  },
  {
   "cell_type": "code",
   "execution_count": 23,
   "metadata": {},
   "outputs": [
    {
     "data": {
      "text/plain": [
       "0    259\n",
       "1    251\n",
       "2    247\n",
       "3    246\n",
       "Name: region, dtype: int64"
      ]
     },
     "execution_count": 23,
     "metadata": {},
     "output_type": "execute_result"
    }
   ],
   "source": [
    "df_train_copy['region'].value_counts()"
   ]
  },
  {
   "cell_type": "code",
   "execution_count": 24,
   "metadata": {},
   "outputs": [
    {
     "data": {
      "text/plain": [
       "<matplotlib.axes._subplots.AxesSubplot at 0xba65e20>"
      ]
     },
     "execution_count": 24,
     "metadata": {},
     "output_type": "execute_result"
    },
    {
     "data": {
      "image/png": "[encoded data removed]",
      "text/plain": [
       "<Figure size 1008x576 with 1 Axes>"
      ]
     },
     "metadata": {
      "needs_background": "light"
     },
     "output_type": "display_data"
    }
   ],
   "source": [
    "plt.figure(figsize=(14,8))\n",
    "sns.barplot(x='region', y='charges', data=df_train_copy, palette='Set1')"
   ]
  },
  {
   "cell_type": "markdown",
   "metadata": {},
   "source": [
    "- Southeast region has the most number of beneficiaries"
   ]
  },
  {
   "cell_type": "markdown",
   "metadata": {},
   "source": [
    "###### B. Which region has highest and least number of smokers?"
   ]
  },
  {
   "cell_type": "code",
   "execution_count": 25,
   "metadata": {},
   "outputs": [
    {
     "data": {
      "text/plain": [
       "<matplotlib.axes._subplots.AxesSubplot at 0x50b8160>"
      ]
     },
     "execution_count": 25,
     "metadata": {},
     "output_type": "execute_result"
    },
    {
     "data": {
      "image/png": "[encoded data removed]",
      "text/plain": [
       "<Figure size 1008x504 with 1 Axes>"
      ]
     },
     "metadata": {
      "needs_background": "light"
     },
     "output_type": "display_data"
    }
   ],
   "source": [
    "plt.figure(figsize=(14,7))\n",
    "sns.barplot(x='region', y='smoker',hue='sex',data=df_train_copy, palette='Set2')"
   ]
  },
  {
   "cell_type": "markdown",
   "metadata": {},
   "source": [
    "- Southeast region has the highest and northwest has the least number of smokers with males as prominent smokers"
   ]
  },
  {
   "cell_type": "markdown",
   "metadata": {},
   "source": [
    "#### 2. Age"
   ]
  },
  {
   "cell_type": "markdown",
   "metadata": {},
   "source": [
    "###### A. What's the mean and median value of the age feature?"
   ]
  },
  {
   "cell_type": "code",
   "execution_count": 26,
   "metadata": {},
   "outputs": [
    {
     "data": {
      "text/plain": [
       "39.25523429710867"
      ]
     },
     "execution_count": 26,
     "metadata": {},
     "output_type": "execute_result"
    }
   ],
   "source": [
    "df_train['age'].mean()"
   ]
  },
  {
   "cell_type": "code",
   "execution_count": 27,
   "metadata": {},
   "outputs": [
    {
     "data": {
      "text/plain": [
       "39.0"
      ]
     },
     "execution_count": 27,
     "metadata": {},
     "output_type": "execute_result"
    }
   ],
   "source": [
    "df_train['age'].median()"
   ]
  },
  {
   "cell_type": "code",
   "execution_count": 28,
   "metadata": {},
   "outputs": [
    {
     "data": {
      "text/plain": [
       "<matplotlib.axes._subplots.AxesSubplot at 0xbe31cd0>"
      ]
     },
     "execution_count": 28,
     "metadata": {},
     "output_type": "execute_result"
    },
    {
     "data": {
      "image/png": "[encoded data removed]",
      "text/plain": [
       "<Figure size 1008x504 with 1 Axes>"
      ]
     },
     "metadata": {
      "needs_background": "light"
     },
     "output_type": "display_data"
    }
   ],
   "source": [
    "plt.figure(figsize=(14,7))\n",
    "sns.distplot(df_train['age'])"
   ]
  },
  {
   "cell_type": "markdown",
   "metadata": {},
   "source": [
    "###### B. How age is related with the charges?"
   ]
  },
  {
   "cell_type": "code",
   "execution_count": 29,
   "metadata": {},
   "outputs": [
    {
     "data": {
      "text/plain": [
       "<matplotlib.axes._subplots.AxesSubplot at 0xc93f880>"
      ]
     },
     "execution_count": 29,
     "metadata": {},
     "output_type": "execute_result"
    },
    {
     "data": {
      "image/png": "[encoded data removed]",
      "text/plain": [
       "<Figure size 1008x504 with 1 Axes>"
      ]
     },
     "metadata": {
      "needs_background": "light"
     },
     "output_type": "display_data"
    }
   ],
   "source": [
    "plt.figure(figsize=(14,7))\n",
    "sns.lineplot(x='age', y='charges', data=df_train_copy, palette='Set3')"
   ]
  },
  {
   "cell_type": "markdown",
   "metadata": {},
   "source": [
    "- Age is one of the primary factors influencing the life insurance premium rate, whether seeking a term or permanent policy.\n",
    "- Typically, the premium amount increases average about 8% to 10% for every year of age;\n",
    "- It can be as low as 5% annually if beneficiary is in 40s, and as high as 12% annually or if over age 50."
   ]
  },
  {
   "cell_type": "markdown",
   "metadata": {},
   "source": [
    "#### 3. BMI (Body Mass Index)"
   ]
  },
  {
   "cell_type": "markdown",
   "metadata": {},
   "source": [
    "###### A. What is the median value of the bmi feature?"
   ]
  },
  {
   "cell_type": "code",
   "execution_count": 30,
   "metadata": {},
   "outputs": [
    {
     "data": {
      "text/plain": [
       "30.2"
      ]
     },
     "execution_count": 30,
     "metadata": {},
     "output_type": "execute_result"
    }
   ],
   "source": [
    "df_train_copy['bmi'].median()"
   ]
  },
  {
   "cell_type": "code",
   "execution_count": 31,
   "metadata": {},
   "outputs": [
    {
     "data": {
      "text/plain": [
       "<matplotlib.axes._subplots.AxesSubplot at 0xc961b50>"
      ]
     },
     "execution_count": 31,
     "metadata": {},
     "output_type": "execute_result"
    },
    {
     "data": {
      "image/png": "[encoded data removed]",
      "text/plain": [
       "<Figure size 1008x576 with 1 Axes>"
      ]
     },
     "metadata": {
      "needs_background": "light"
     },
     "output_type": "display_data"
    }
   ],
   "source": [
    "plt.figure(figsize=(14,8))\n",
    "sns.distplot(df_train_copy['bmi'], color='g')"
   ]
  },
  {
   "cell_type": "markdown",
   "metadata": {},
   "source": [
    "###### B. How BMI will affect medical insurance?"
   ]
  },
  {
   "cell_type": "code",
   "execution_count": 32,
   "metadata": {},
   "outputs": [
    {
     "data": {
      "text/plain": [
       "<matplotlib.axes._subplots.AxesSubplot at 0xc905970>"
      ]
     },
     "execution_count": 32,
     "metadata": {},
     "output_type": "execute_result"
    },
    {
     "data": {
      "image/png": "[encoded data removed]",
      "text/plain": [
       "<Figure size 1008x648 with 1 Axes>"
      ]
     },
     "metadata": {
      "needs_background": "light"
     },
     "output_type": "display_data"
    }
   ],
   "source": [
    "plt.figure(figsize=(14,9))\n",
    "sns.scatterplot(x='bmi', y='charges', hue='sex', data=df_train_copy, palette='Reds')"
   ]
  },
  {
   "cell_type": "markdown",
   "metadata": {},
   "source": [
    "- A higher BMI means that the individual is at a higher risk of heart diseases and might frequently visit the hospitals due to weight-related issues.\n",
    "- People with a body mass index (BMI) of 30 or higher can expect to pay more each month for health insurance. \n",
    "- In some cases,Health insurance for obese people costs 25 to 50 percent more than coverage for people with a BMI below 30."
   ]
  },
  {
   "cell_type": "markdown",
   "metadata": {},
   "source": [
    "#### 4. Gender"
   ]
  },
  {
   "cell_type": "markdown",
   "metadata": {},
   "source": [
    "##### A. What's the gender ratio? "
   ]
  },
  {
   "cell_type": "code",
   "execution_count": 33,
   "metadata": {},
   "outputs": [
    {
     "data": {
      "text/plain": [
       "0    506\n",
       "1    497\n",
       "Name: sex, dtype: int64"
      ]
     },
     "execution_count": 33,
     "metadata": {},
     "output_type": "execute_result"
    }
   ],
   "source": [
    "df_train_copy['sex'].value_counts()"
   ]
  },
  {
   "cell_type": "code",
   "execution_count": 34,
   "metadata": {},
   "outputs": [
    {
     "data": {
      "text/plain": [
       "Text(0.5, 1.0, 'Gender Ratio')"
      ]
     },
     "execution_count": 34,
     "metadata": {},
     "output_type": "execute_result"
    },
    {
     "data": {
      "image/png": "[encoded data removed]",
      "text/plain": [
       "<Figure size 1152x504 with 1 Axes>"
      ]
     },
     "metadata": {},
     "output_type": "display_data"
    }
   ],
   "source": [
    "df_train_copy['sex'].value_counts().plot(kind='pie', \n",
    "                                         figsize=(16,7), autopct='%1.1f%%',\n",
    "                                         explode=(0,0), fontsize=13)\n",
    "plt.title('Gender Ratio', fontsize=20)"
   ]
  },
  {
   "cell_type": "markdown",
   "metadata": {},
   "source": [
    "- The ratio of male (51%)gender is higher than female(49%)"
   ]
  },
  {
   "cell_type": "markdown",
   "metadata": {},
   "source": [
    "#### 5. Smokers"
   ]
  },
  {
   "cell_type": "markdown",
   "metadata": {},
   "source": [
    "###### A. What's percentage of smokers?"
   ]
  },
  {
   "cell_type": "code",
   "execution_count": 35,
   "metadata": {},
   "outputs": [
    {
     "data": {
      "text/plain": [
       "0    797\n",
       "1    206\n",
       "Name: smoker, dtype: int64"
      ]
     },
     "execution_count": 35,
     "metadata": {},
     "output_type": "execute_result"
    }
   ],
   "source": [
    "df_train_copy['smoker'].value_counts()"
   ]
  },
  {
   "cell_type": "code",
   "execution_count": 36,
   "metadata": {},
   "outputs": [
    {
     "data": {
      "text/plain": [
       "Text(0.5, 1.0, 'Percentage of Smokers')"
      ]
     },
     "execution_count": 36,
     "metadata": {},
     "output_type": "execute_result"
    },
    {
     "data": {
      "image/png": "[encoded data removed]",
      "text/plain": [
       "<Figure size 1152x504 with 1 Axes>"
      ]
     },
     "metadata": {},
     "output_type": "display_data"
    }
   ],
   "source": [
    "df_train_copy['smoker'].value_counts().plot(kind='pie', \n",
    "                                         figsize=(16,7), autopct='%1.1f%%',\n",
    "                                         explode=(0,0), fontsize=13)\n",
    "plt.title('Percentage of Smokers', fontsize=20)"
   ]
  },
  {
   "cell_type": "markdown",
   "metadata": {},
   "source": [
    "#### 6. Charges"
   ]
  },
  {
   "cell_type": "code",
   "execution_count": 37,
   "metadata": {},
   "outputs": [
    {
     "data": {
      "text/plain": [
       "<matplotlib.axes._subplots.AxesSubplot at 0x578ae20>"
      ]
     },
     "execution_count": 37,
     "metadata": {},
     "output_type": "execute_result"
    },
    {
     "data": {
      "image/png": "[encoded data removed]",
      "text/plain": [
       "<Figure size 1008x576 with 1 Axes>"
      ]
     },
     "metadata": {
      "needs_background": "light"
     },
     "output_type": "display_data"
    }
   ],
   "source": [
    "plt.figure(figsize=(14,8))\n",
    "sns.distplot(df_train_copy['charges'], color='r')"
   ]
  },
  {
   "cell_type": "code",
   "execution_count": 38,
   "metadata": {},
   "outputs": [
    {
     "data": {
      "text/plain": [
       "<matplotlib.axes._subplots.AxesSubplot at 0xc905820>"
      ]
     },
     "execution_count": 38,
     "metadata": {},
     "output_type": "execute_result"
    },
    {
     "data": {
      "image/png": "[encoded data removed]",
      "text/plain": [
       "<Figure size 1008x648 with 1 Axes>"
      ]
     },
     "metadata": {
      "needs_background": "light"
     },
     "output_type": "display_data"
    }
   ],
   "source": [
    "plt.figure(figsize=(14,9))\n",
    "sns.barplot(x='smoker', y='charges', hue='sex', data=df_train_copy, palette='Blues')"
   ]
  },
  {
   "cell_type": "markdown",
   "metadata": {},
   "source": [
    "- As smoking is highly related to health disorders, like cancer, heart disease, stroke, lung diseases, diabetes, and chronic obstructive pulmonary disease (COPD), which includes emphysema and chronic bronchitis. \n",
    "- Smoking also increases risk for tuberculosis, certain eye diseases, and problems of the immune system, including rheumatoid arthritis.\n",
    "- Most of the health insurance companies are allowed to charge smokers up to 50% more for premiums. "
   ]
  },
  {
   "cell_type": "markdown",
   "metadata": {},
   "source": [
    "#### Overall Analysis\n",
    "- Rising cost of medical treatment has been a significant rise in the number of people buying a health insurance policy. \n",
    "- Premium rates will be increased if the customer has high BMI. \n",
    "- People with high BMI are at risk of serious ailments, such as heart diseases, type 2 diabetes, breathing problems, hypertension, and cancer. "
   ]
  },
  {
   "cell_type": "markdown",
   "metadata": {},
   "source": [
    "#### Future Insights \n",
    "- Premium payments depends on type of health insurance cover the buyers choose. The premium amount will increase if the customers have purchased add-on covers.\n",
    "- Individual or group insurance has low premium rate, while family floater has high premium rate. "
   ]
  },
  {
   "cell_type": "markdown",
   "metadata": {},
   "source": [
    "### Model Evalution "
   ]
  },
  {
   "cell_type": "markdown",
   "metadata": {},
   "source": [
    "###### Preparing X and y for training and testing "
   ]
  },
  {
   "cell_type": "code",
   "execution_count": 39,
   "metadata": {},
   "outputs": [
    {
     "data": {
      "text/html": [
       "<div>\n",
       "<style scoped>\n",
       "    .dataframe tbody tr th:only-of-type {\n",
       "        vertical-align: middle;\n",
       "    }\n",
       "\n",
       "    .dataframe tbody tr th {\n",
       "        vertical-align: top;\n",
       "    }\n",
       "\n",
       "    .dataframe thead th {\n",
       "        text-align: right;\n",
       "    }\n",
       "</style>\n",
       "<table border=\"1\" class=\"dataframe\">\n",
       "  <thead>\n",
       "    <tr style=\"text-align: right;\">\n",
       "      <th></th>\n",
       "      <th>age</th>\n",
       "      <th>sex</th>\n",
       "      <th>bmi</th>\n",
       "      <th>children</th>\n",
       "      <th>smoker</th>\n",
       "      <th>region</th>\n",
       "      <th>id</th>\n",
       "      <th>charges</th>\n",
       "    </tr>\n",
       "  </thead>\n",
       "  <tbody>\n",
       "    <tr>\n",
       "      <th>0</th>\n",
       "      <td>24</td>\n",
       "      <td>male</td>\n",
       "      <td>23.655</td>\n",
       "      <td>0</td>\n",
       "      <td>no</td>\n",
       "      <td>northwest</td>\n",
       "      <td>693</td>\n",
       "      <td>2352.96845</td>\n",
       "    </tr>\n",
       "    <tr>\n",
       "      <th>1</th>\n",
       "      <td>28</td>\n",
       "      <td>female</td>\n",
       "      <td>26.510</td>\n",
       "      <td>2</td>\n",
       "      <td>no</td>\n",
       "      <td>southeast</td>\n",
       "      <td>1297</td>\n",
       "      <td>4340.44090</td>\n",
       "    </tr>\n",
       "    <tr>\n",
       "      <th>2</th>\n",
       "      <td>51</td>\n",
       "      <td>male</td>\n",
       "      <td>39.700</td>\n",
       "      <td>1</td>\n",
       "      <td>no</td>\n",
       "      <td>southwest</td>\n",
       "      <td>634</td>\n",
       "      <td>9391.34600</td>\n",
       "    </tr>\n",
       "    <tr>\n",
       "      <th>3</th>\n",
       "      <td>47</td>\n",
       "      <td>male</td>\n",
       "      <td>36.080</td>\n",
       "      <td>1</td>\n",
       "      <td>yes</td>\n",
       "      <td>southeast</td>\n",
       "      <td>1022</td>\n",
       "      <td>42211.13820</td>\n",
       "    </tr>\n",
       "    <tr>\n",
       "      <th>4</th>\n",
       "      <td>46</td>\n",
       "      <td>female</td>\n",
       "      <td>28.900</td>\n",
       "      <td>2</td>\n",
       "      <td>no</td>\n",
       "      <td>southwest</td>\n",
       "      <td>178</td>\n",
       "      <td>8823.27900</td>\n",
       "    </tr>\n",
       "  </tbody>\n",
       "</table>\n",
       "</div>"
      ],
      "text/plain": [
       "   age     sex     bmi  children smoker     region    id      charges\n",
       "0   24    male  23.655         0     no  northwest   693   2352.96845\n",
       "1   28  female  26.510         2     no  southeast  1297   4340.44090\n",
       "2   51    male  39.700         1     no  southwest   634   9391.34600\n",
       "3   47    male  36.080         1    yes  southeast  1022  42211.13820\n",
       "4   46  female  28.900         2     no  southwest   178   8823.27900"
      ]
     },
     "execution_count": 39,
     "metadata": {},
     "output_type": "execute_result"
    }
   ],
   "source": [
    "df_train.head()"
   ]
  },
  {
   "cell_type": "markdown",
   "metadata": {},
   "source": [
    "###### Dropping least important feature of the dataset"
   ]
  },
  {
   "cell_type": "code",
   "execution_count": 40,
   "metadata": {},
   "outputs": [
    {
     "data": {
      "text/html": [
       "<div>\n",
       "<style scoped>\n",
       "    .dataframe tbody tr th:only-of-type {\n",
       "        vertical-align: middle;\n",
       "    }\n",
       "\n",
       "    .dataframe tbody tr th {\n",
       "        vertical-align: top;\n",
       "    }\n",
       "\n",
       "    .dataframe thead th {\n",
       "        text-align: right;\n",
       "    }\n",
       "</style>\n",
       "<table border=\"1\" class=\"dataframe\">\n",
       "  <thead>\n",
       "    <tr style=\"text-align: right;\">\n",
       "      <th></th>\n",
       "      <th>age</th>\n",
       "      <th>sex</th>\n",
       "      <th>bmi</th>\n",
       "      <th>children</th>\n",
       "      <th>smoker</th>\n",
       "      <th>id</th>\n",
       "      <th>charges</th>\n",
       "    </tr>\n",
       "  </thead>\n",
       "  <tbody>\n",
       "    <tr>\n",
       "      <th>0</th>\n",
       "      <td>24</td>\n",
       "      <td>male</td>\n",
       "      <td>23.655</td>\n",
       "      <td>0</td>\n",
       "      <td>no</td>\n",
       "      <td>693</td>\n",
       "      <td>2352.96845</td>\n",
       "    </tr>\n",
       "    <tr>\n",
       "      <th>1</th>\n",
       "      <td>28</td>\n",
       "      <td>female</td>\n",
       "      <td>26.510</td>\n",
       "      <td>2</td>\n",
       "      <td>no</td>\n",
       "      <td>1297</td>\n",
       "      <td>4340.44090</td>\n",
       "    </tr>\n",
       "    <tr>\n",
       "      <th>2</th>\n",
       "      <td>51</td>\n",
       "      <td>male</td>\n",
       "      <td>39.700</td>\n",
       "      <td>1</td>\n",
       "      <td>no</td>\n",
       "      <td>634</td>\n",
       "      <td>9391.34600</td>\n",
       "    </tr>\n",
       "    <tr>\n",
       "      <th>3</th>\n",
       "      <td>47</td>\n",
       "      <td>male</td>\n",
       "      <td>36.080</td>\n",
       "      <td>1</td>\n",
       "      <td>yes</td>\n",
       "      <td>1022</td>\n",
       "      <td>42211.13820</td>\n",
       "    </tr>\n",
       "    <tr>\n",
       "      <th>4</th>\n",
       "      <td>46</td>\n",
       "      <td>female</td>\n",
       "      <td>28.900</td>\n",
       "      <td>2</td>\n",
       "      <td>no</td>\n",
       "      <td>178</td>\n",
       "      <td>8823.27900</td>\n",
       "    </tr>\n",
       "    <tr>\n",
       "      <th>...</th>\n",
       "      <td>...</td>\n",
       "      <td>...</td>\n",
       "      <td>...</td>\n",
       "      <td>...</td>\n",
       "      <td>...</td>\n",
       "      <td>...</td>\n",
       "      <td>...</td>\n",
       "    </tr>\n",
       "    <tr>\n",
       "      <th>998</th>\n",
       "      <td>18</td>\n",
       "      <td>female</td>\n",
       "      <td>31.350</td>\n",
       "      <td>4</td>\n",
       "      <td>no</td>\n",
       "      <td>1095</td>\n",
       "      <td>4561.18850</td>\n",
       "    </tr>\n",
       "    <tr>\n",
       "      <th>999</th>\n",
       "      <td>39</td>\n",
       "      <td>female</td>\n",
       "      <td>23.870</td>\n",
       "      <td>5</td>\n",
       "      <td>no</td>\n",
       "      <td>1130</td>\n",
       "      <td>8582.30230</td>\n",
       "    </tr>\n",
       "    <tr>\n",
       "      <th>1000</th>\n",
       "      <td>58</td>\n",
       "      <td>male</td>\n",
       "      <td>25.175</td>\n",
       "      <td>0</td>\n",
       "      <td>no</td>\n",
       "      <td>1294</td>\n",
       "      <td>11931.12525</td>\n",
       "    </tr>\n",
       "    <tr>\n",
       "      <th>1001</th>\n",
       "      <td>37</td>\n",
       "      <td>female</td>\n",
       "      <td>47.600</td>\n",
       "      <td>2</td>\n",
       "      <td>yes</td>\n",
       "      <td>860</td>\n",
       "      <td>46113.51100</td>\n",
       "    </tr>\n",
       "    <tr>\n",
       "      <th>1002</th>\n",
       "      <td>55</td>\n",
       "      <td>male</td>\n",
       "      <td>29.900</td>\n",
       "      <td>0</td>\n",
       "      <td>no</td>\n",
       "      <td>1126</td>\n",
       "      <td>10214.63600</td>\n",
       "    </tr>\n",
       "  </tbody>\n",
       "</table>\n",
       "<p>1003 rows × 7 columns</p>\n",
       "</div>"
      ],
      "text/plain": [
       "      age     sex     bmi  children smoker    id      charges\n",
       "0      24    male  23.655         0     no   693   2352.96845\n",
       "1      28  female  26.510         2     no  1297   4340.44090\n",
       "2      51    male  39.700         1     no   634   9391.34600\n",
       "3      47    male  36.080         1    yes  1022  42211.13820\n",
       "4      46  female  28.900         2     no   178   8823.27900\n",
       "...   ...     ...     ...       ...    ...   ...          ...\n",
       "998    18  female  31.350         4     no  1095   4561.18850\n",
       "999    39  female  23.870         5     no  1130   8582.30230\n",
       "1000   58    male  25.175         0     no  1294  11931.12525\n",
       "1001   37  female  47.600         2    yes   860  46113.51100\n",
       "1002   55    male  29.900         0     no  1126  10214.63600\n",
       "\n",
       "[1003 rows x 7 columns]"
      ]
     },
     "execution_count": 40,
     "metadata": {},
     "output_type": "execute_result"
    }
   ],
   "source": [
    "df_train = df_train.drop('region', axis=1)\n",
    "df_train"
   ]
  },
  {
   "cell_type": "markdown",
   "metadata": {},
   "source": [
    "###### Label encoding for “sex” and “smoker”"
   ]
  },
  {
   "cell_type": "code",
   "execution_count": 41,
   "metadata": {},
   "outputs": [],
   "source": [
    "from sklearn.preprocessing import LabelEncoder"
   ]
  },
  {
   "cell_type": "code",
   "execution_count": 42,
   "metadata": {},
   "outputs": [],
   "source": [
    "le = LabelEncoder()\n",
    "df_train['sex'] = le.fit_transform(df_train['sex'])\n",
    "df_train['smoker'] = le.fit_transform(df_train['smoker'])"
   ]
  },
  {
   "cell_type": "code",
   "execution_count": 43,
   "metadata": {},
   "outputs": [
    {
     "data": {
      "text/html": [
       "<div>\n",
       "<style scoped>\n",
       "    .dataframe tbody tr th:only-of-type {\n",
       "        vertical-align: middle;\n",
       "    }\n",
       "\n",
       "    .dataframe tbody tr th {\n",
       "        vertical-align: top;\n",
       "    }\n",
       "\n",
       "    .dataframe thead th {\n",
       "        text-align: right;\n",
       "    }\n",
       "</style>\n",
       "<table border=\"1\" class=\"dataframe\">\n",
       "  <thead>\n",
       "    <tr style=\"text-align: right;\">\n",
       "      <th></th>\n",
       "      <th>age</th>\n",
       "      <th>sex</th>\n",
       "      <th>bmi</th>\n",
       "      <th>children</th>\n",
       "      <th>smoker</th>\n",
       "      <th>id</th>\n",
       "      <th>charges</th>\n",
       "    </tr>\n",
       "  </thead>\n",
       "  <tbody>\n",
       "    <tr>\n",
       "      <th>0</th>\n",
       "      <td>24</td>\n",
       "      <td>1</td>\n",
       "      <td>23.655</td>\n",
       "      <td>0</td>\n",
       "      <td>0</td>\n",
       "      <td>693</td>\n",
       "      <td>2352.96845</td>\n",
       "    </tr>\n",
       "    <tr>\n",
       "      <th>1</th>\n",
       "      <td>28</td>\n",
       "      <td>0</td>\n",
       "      <td>26.510</td>\n",
       "      <td>2</td>\n",
       "      <td>0</td>\n",
       "      <td>1297</td>\n",
       "      <td>4340.44090</td>\n",
       "    </tr>\n",
       "    <tr>\n",
       "      <th>2</th>\n",
       "      <td>51</td>\n",
       "      <td>1</td>\n",
       "      <td>39.700</td>\n",
       "      <td>1</td>\n",
       "      <td>0</td>\n",
       "      <td>634</td>\n",
       "      <td>9391.34600</td>\n",
       "    </tr>\n",
       "    <tr>\n",
       "      <th>3</th>\n",
       "      <td>47</td>\n",
       "      <td>1</td>\n",
       "      <td>36.080</td>\n",
       "      <td>1</td>\n",
       "      <td>1</td>\n",
       "      <td>1022</td>\n",
       "      <td>42211.13820</td>\n",
       "    </tr>\n",
       "    <tr>\n",
       "      <th>4</th>\n",
       "      <td>46</td>\n",
       "      <td>0</td>\n",
       "      <td>28.900</td>\n",
       "      <td>2</td>\n",
       "      <td>0</td>\n",
       "      <td>178</td>\n",
       "      <td>8823.27900</td>\n",
       "    </tr>\n",
       "  </tbody>\n",
       "</table>\n",
       "</div>"
      ],
      "text/plain": [
       "   age  sex     bmi  children  smoker    id      charges\n",
       "0   24    1  23.655         0       0   693   2352.96845\n",
       "1   28    0  26.510         2       0  1297   4340.44090\n",
       "2   51    1  39.700         1       0   634   9391.34600\n",
       "3   47    1  36.080         1       1  1022  42211.13820\n",
       "4   46    0  28.900         2       0   178   8823.27900"
      ]
     },
     "execution_count": 43,
     "metadata": {},
     "output_type": "execute_result"
    }
   ],
   "source": [
    "df_train.head()"
   ]
  },
  {
   "cell_type": "code",
   "execution_count": 44,
   "metadata": {},
   "outputs": [
    {
     "data": {
      "text/html": [
       "<div>\n",
       "<style scoped>\n",
       "    .dataframe tbody tr th:only-of-type {\n",
       "        vertical-align: middle;\n",
       "    }\n",
       "\n",
       "    .dataframe tbody tr th {\n",
       "        vertical-align: top;\n",
       "    }\n",
       "\n",
       "    .dataframe thead th {\n",
       "        text-align: right;\n",
       "    }\n",
       "</style>\n",
       "<table border=\"1\" class=\"dataframe\">\n",
       "  <thead>\n",
       "    <tr style=\"text-align: right;\">\n",
       "      <th></th>\n",
       "      <th>age</th>\n",
       "      <th>sex</th>\n",
       "      <th>bmi</th>\n",
       "      <th>children</th>\n",
       "      <th>smoker</th>\n",
       "      <th>id</th>\n",
       "    </tr>\n",
       "  </thead>\n",
       "  <tbody>\n",
       "    <tr>\n",
       "      <th>0</th>\n",
       "      <td>24</td>\n",
       "      <td>1</td>\n",
       "      <td>23.655</td>\n",
       "      <td>0</td>\n",
       "      <td>0</td>\n",
       "      <td>693</td>\n",
       "    </tr>\n",
       "    <tr>\n",
       "      <th>1</th>\n",
       "      <td>28</td>\n",
       "      <td>0</td>\n",
       "      <td>26.510</td>\n",
       "      <td>2</td>\n",
       "      <td>0</td>\n",
       "      <td>1297</td>\n",
       "    </tr>\n",
       "    <tr>\n",
       "      <th>2</th>\n",
       "      <td>51</td>\n",
       "      <td>1</td>\n",
       "      <td>39.700</td>\n",
       "      <td>1</td>\n",
       "      <td>0</td>\n",
       "      <td>634</td>\n",
       "    </tr>\n",
       "    <tr>\n",
       "      <th>3</th>\n",
       "      <td>47</td>\n",
       "      <td>1</td>\n",
       "      <td>36.080</td>\n",
       "      <td>1</td>\n",
       "      <td>1</td>\n",
       "      <td>1022</td>\n",
       "    </tr>\n",
       "    <tr>\n",
       "      <th>4</th>\n",
       "      <td>46</td>\n",
       "      <td>0</td>\n",
       "      <td>28.900</td>\n",
       "      <td>2</td>\n",
       "      <td>0</td>\n",
       "      <td>178</td>\n",
       "    </tr>\n",
       "    <tr>\n",
       "      <th>...</th>\n",
       "      <td>...</td>\n",
       "      <td>...</td>\n",
       "      <td>...</td>\n",
       "      <td>...</td>\n",
       "      <td>...</td>\n",
       "      <td>...</td>\n",
       "    </tr>\n",
       "    <tr>\n",
       "      <th>998</th>\n",
       "      <td>18</td>\n",
       "      <td>0</td>\n",
       "      <td>31.350</td>\n",
       "      <td>4</td>\n",
       "      <td>0</td>\n",
       "      <td>1095</td>\n",
       "    </tr>\n",
       "    <tr>\n",
       "      <th>999</th>\n",
       "      <td>39</td>\n",
       "      <td>0</td>\n",
       "      <td>23.870</td>\n",
       "      <td>5</td>\n",
       "      <td>0</td>\n",
       "      <td>1130</td>\n",
       "    </tr>\n",
       "    <tr>\n",
       "      <th>1000</th>\n",
       "      <td>58</td>\n",
       "      <td>1</td>\n",
       "      <td>25.175</td>\n",
       "      <td>0</td>\n",
       "      <td>0</td>\n",
       "      <td>1294</td>\n",
       "    </tr>\n",
       "    <tr>\n",
       "      <th>1001</th>\n",
       "      <td>37</td>\n",
       "      <td>0</td>\n",
       "      <td>47.600</td>\n",
       "      <td>2</td>\n",
       "      <td>1</td>\n",
       "      <td>860</td>\n",
       "    </tr>\n",
       "    <tr>\n",
       "      <th>1002</th>\n",
       "      <td>55</td>\n",
       "      <td>1</td>\n",
       "      <td>29.900</td>\n",
       "      <td>0</td>\n",
       "      <td>0</td>\n",
       "      <td>1126</td>\n",
       "    </tr>\n",
       "  </tbody>\n",
       "</table>\n",
       "<p>1003 rows × 6 columns</p>\n",
       "</div>"
      ],
      "text/plain": [
       "      age  sex     bmi  children  smoker    id\n",
       "0      24    1  23.655         0       0   693\n",
       "1      28    0  26.510         2       0  1297\n",
       "2      51    1  39.700         1       0   634\n",
       "3      47    1  36.080         1       1  1022\n",
       "4      46    0  28.900         2       0   178\n",
       "...   ...  ...     ...       ...     ...   ...\n",
       "998    18    0  31.350         4       0  1095\n",
       "999    39    0  23.870         5       0  1130\n",
       "1000   58    1  25.175         0       0  1294\n",
       "1001   37    0  47.600         2       1   860\n",
       "1002   55    1  29.900         0       0  1126\n",
       "\n",
       "[1003 rows x 6 columns]"
      ]
     },
     "execution_count": 44,
     "metadata": {},
     "output_type": "execute_result"
    }
   ],
   "source": [
    "feature_cols = ['age','sex','bmi','children','smoker','id']\n",
    "X = df_train[feature_cols]\n",
    "X"
   ]
  },
  {
   "cell_type": "code",
   "execution_count": 45,
   "metadata": {},
   "outputs": [
    {
     "data": {
      "text/plain": [
       "0        2352.96845\n",
       "1        4340.44090\n",
       "2        9391.34600\n",
       "3       42211.13820\n",
       "4        8823.27900\n",
       "           ...     \n",
       "998      4561.18850\n",
       "999      8582.30230\n",
       "1000    11931.12525\n",
       "1001    46113.51100\n",
       "1002    10214.63600\n",
       "Name: charges, Length: 1003, dtype: float64"
      ]
     },
     "execution_count": 45,
     "metadata": {},
     "output_type": "execute_result"
    }
   ],
   "source": [
    "y = df_train['charges']\n",
    "y"
   ]
  },
  {
   "cell_type": "code",
   "execution_count": 46,
   "metadata": {},
   "outputs": [
    {
     "data": {
      "text/plain": [
       "0     2352.96845\n",
       "1     4340.44090\n",
       "2     9391.34600\n",
       "3    42211.13820\n",
       "4     8823.27900\n",
       "Name: charges, dtype: float64"
      ]
     },
     "execution_count": 46,
     "metadata": {},
     "output_type": "execute_result"
    }
   ],
   "source": [
    "y.head()"
   ]
  },
  {
   "cell_type": "code",
   "execution_count": 47,
   "metadata": {},
   "outputs": [
    {
     "name": "stdout",
     "output_type": "stream",
     "text": [
      "(1003, 6)\n",
      "(1003,)\n"
     ]
    }
   ],
   "source": [
    "print(X.shape)\n",
    "print(y.shape)"
   ]
  },
  {
   "cell_type": "markdown",
   "metadata": {},
   "source": [
    "###### Splitting Dataset into testing and training"
   ]
  },
  {
   "cell_type": "code",
   "execution_count": 48,
   "metadata": {},
   "outputs": [],
   "source": [
    "from sklearn.model_selection import train_test_split"
   ]
  },
  {
   "cell_type": "code",
   "execution_count": 49,
   "metadata": {},
   "outputs": [],
   "source": [
    "X_train,X_test,y_train,y_test = train_test_split(X,y,test_size=0.2, random_state=30)"
   ]
  },
  {
   "cell_type": "code",
   "execution_count": 50,
   "metadata": {},
   "outputs": [
    {
     "data": {
      "text/html": [
       "<div>\n",
       "<style scoped>\n",
       "    .dataframe tbody tr th:only-of-type {\n",
       "        vertical-align: middle;\n",
       "    }\n",
       "\n",
       "    .dataframe tbody tr th {\n",
       "        vertical-align: top;\n",
       "    }\n",
       "\n",
       "    .dataframe thead th {\n",
       "        text-align: right;\n",
       "    }\n",
       "</style>\n",
       "<table border=\"1\" class=\"dataframe\">\n",
       "  <thead>\n",
       "    <tr style=\"text-align: right;\">\n",
       "      <th></th>\n",
       "      <th>age</th>\n",
       "      <th>sex</th>\n",
       "      <th>bmi</th>\n",
       "      <th>children</th>\n",
       "      <th>smoker</th>\n",
       "      <th>id</th>\n",
       "    </tr>\n",
       "  </thead>\n",
       "  <tbody>\n",
       "    <tr>\n",
       "      <th>797</th>\n",
       "      <td>18</td>\n",
       "      <td>0</td>\n",
       "      <td>39.82</td>\n",
       "      <td>0</td>\n",
       "      <td>0</td>\n",
       "      <td>1248</td>\n",
       "    </tr>\n",
       "    <tr>\n",
       "      <th>767</th>\n",
       "      <td>42</td>\n",
       "      <td>0</td>\n",
       "      <td>26.18</td>\n",
       "      <td>1</td>\n",
       "      <td>0</td>\n",
       "      <td>800</td>\n",
       "    </tr>\n",
       "    <tr>\n",
       "      <th>932</th>\n",
       "      <td>20</td>\n",
       "      <td>0</td>\n",
       "      <td>31.46</td>\n",
       "      <td>0</td>\n",
       "      <td>0</td>\n",
       "      <td>815</td>\n",
       "    </tr>\n",
       "    <tr>\n",
       "      <th>742</th>\n",
       "      <td>48</td>\n",
       "      <td>0</td>\n",
       "      <td>35.91</td>\n",
       "      <td>1</td>\n",
       "      <td>0</td>\n",
       "      <td>658</td>\n",
       "    </tr>\n",
       "    <tr>\n",
       "      <th>995</th>\n",
       "      <td>60</td>\n",
       "      <td>0</td>\n",
       "      <td>28.70</td>\n",
       "      <td>1</td>\n",
       "      <td>0</td>\n",
       "      <td>466</td>\n",
       "    </tr>\n",
       "  </tbody>\n",
       "</table>\n",
       "</div>"
      ],
      "text/plain": [
       "     age  sex    bmi  children  smoker    id\n",
       "797   18    0  39.82         0       0  1248\n",
       "767   42    0  26.18         1       0   800\n",
       "932   20    0  31.46         0       0   815\n",
       "742   48    0  35.91         1       0   658\n",
       "995   60    0  28.70         1       0   466"
      ]
     },
     "execution_count": 50,
     "metadata": {},
     "output_type": "execute_result"
    }
   ],
   "source": [
    "X_train.head()"
   ]
  },
  {
   "cell_type": "code",
   "execution_count": 51,
   "metadata": {},
   "outputs": [
    {
     "data": {
      "text/html": [
       "<div>\n",
       "<style scoped>\n",
       "    .dataframe tbody tr th:only-of-type {\n",
       "        vertical-align: middle;\n",
       "    }\n",
       "\n",
       "    .dataframe tbody tr th {\n",
       "        vertical-align: top;\n",
       "    }\n",
       "\n",
       "    .dataframe thead th {\n",
       "        text-align: right;\n",
       "    }\n",
       "</style>\n",
       "<table border=\"1\" class=\"dataframe\">\n",
       "  <thead>\n",
       "    <tr style=\"text-align: right;\">\n",
       "      <th></th>\n",
       "      <th>age</th>\n",
       "      <th>sex</th>\n",
       "      <th>bmi</th>\n",
       "      <th>children</th>\n",
       "      <th>smoker</th>\n",
       "      <th>id</th>\n",
       "    </tr>\n",
       "  </thead>\n",
       "  <tbody>\n",
       "    <tr>\n",
       "      <th>925</th>\n",
       "      <td>47</td>\n",
       "      <td>0</td>\n",
       "      <td>32.000</td>\n",
       "      <td>1</td>\n",
       "      <td>0</td>\n",
       "      <td>1076</td>\n",
       "    </tr>\n",
       "    <tr>\n",
       "      <th>923</th>\n",
       "      <td>53</td>\n",
       "      <td>0</td>\n",
       "      <td>26.600</td>\n",
       "      <td>0</td>\n",
       "      <td>0</td>\n",
       "      <td>216</td>\n",
       "    </tr>\n",
       "    <tr>\n",
       "      <th>700</th>\n",
       "      <td>30</td>\n",
       "      <td>1</td>\n",
       "      <td>35.300</td>\n",
       "      <td>0</td>\n",
       "      <td>1</td>\n",
       "      <td>19</td>\n",
       "    </tr>\n",
       "    <tr>\n",
       "      <th>87</th>\n",
       "      <td>40</td>\n",
       "      <td>1</td>\n",
       "      <td>34.105</td>\n",
       "      <td>1</td>\n",
       "      <td>0</td>\n",
       "      <td>325</td>\n",
       "    </tr>\n",
       "    <tr>\n",
       "      <th>881</th>\n",
       "      <td>50</td>\n",
       "      <td>1</td>\n",
       "      <td>36.200</td>\n",
       "      <td>0</td>\n",
       "      <td>0</td>\n",
       "      <td>870</td>\n",
       "    </tr>\n",
       "  </tbody>\n",
       "</table>\n",
       "</div>"
      ],
      "text/plain": [
       "     age  sex     bmi  children  smoker    id\n",
       "925   47    0  32.000         1       0  1076\n",
       "923   53    0  26.600         0       0   216\n",
       "700   30    1  35.300         0       1    19\n",
       "87    40    1  34.105         1       0   325\n",
       "881   50    1  36.200         0       0   870"
      ]
     },
     "execution_count": 51,
     "metadata": {},
     "output_type": "execute_result"
    }
   ],
   "source": [
    "X_test.head()"
   ]
  },
  {
   "cell_type": "code",
   "execution_count": 52,
   "metadata": {},
   "outputs": [
    {
     "data": {
      "text/plain": [
       "797     1633.96180\n",
       "767     7046.72220\n",
       "932     1877.92940\n",
       "742    26392.26029\n",
       "995    13224.69300\n",
       "Name: charges, dtype: float64"
      ]
     },
     "execution_count": 52,
     "metadata": {},
     "output_type": "execute_result"
    }
   ],
   "source": [
    "y_train.head()"
   ]
  },
  {
   "cell_type": "code",
   "execution_count": 53,
   "metadata": {},
   "outputs": [
    {
     "data": {
      "text/plain": [
       "925     8551.34700\n",
       "923    10355.64100\n",
       "700    36837.46700\n",
       "87      6600.20595\n",
       "881     8457.81800\n",
       "Name: charges, dtype: float64"
      ]
     },
     "execution_count": 53,
     "metadata": {},
     "output_type": "execute_result"
    }
   ],
   "source": [
    "y_test.head()"
   ]
  },
  {
   "cell_type": "markdown",
   "metadata": {},
   "source": [
    "###### Applying StandardScalar to X_train and y_test"
   ]
  },
  {
   "cell_type": "code",
   "execution_count": 54,
   "metadata": {},
   "outputs": [],
   "source": [
    "from sklearn.preprocessing import StandardScaler"
   ]
  },
  {
   "cell_type": "code",
   "execution_count": 55,
   "metadata": {},
   "outputs": [],
   "source": [
    "scaler = StandardScaler()"
   ]
  },
  {
   "cell_type": "code",
   "execution_count": 56,
   "metadata": {},
   "outputs": [
    {
     "data": {
      "text/plain": [
       "Index(['age', 'sex', 'bmi', 'children', 'smoker', 'id', 'charges'], dtype='object')"
      ]
     },
     "execution_count": 56,
     "metadata": {},
     "output_type": "execute_result"
    }
   ],
   "source": [
    "df_train.columns"
   ]
  },
  {
   "cell_type": "code",
   "execution_count": 57,
   "metadata": {},
   "outputs": [],
   "source": [
    "X_train = scaler.fit_transform(X_train)\n",
    "X_test = scaler.fit_transform(X_test)"
   ]
  },
  {
   "cell_type": "markdown",
   "metadata": {},
   "source": [
    "###### Applying Linear Regression"
   ]
  },
  {
   "cell_type": "code",
   "execution_count": 58,
   "metadata": {},
   "outputs": [],
   "source": [
    "from sklearn.linear_model import LinearRegression"
   ]
  },
  {
   "cell_type": "code",
   "execution_count": 59,
   "metadata": {},
   "outputs": [
    {
     "data": {
      "text/plain": [
       "LinearRegression()"
      ]
     },
     "execution_count": 59,
     "metadata": {},
     "output_type": "execute_result"
    }
   ],
   "source": [
    "lr = LinearRegression()\n",
    "lr"
   ]
  },
  {
   "cell_type": "code",
   "execution_count": 60,
   "metadata": {},
   "outputs": [
    {
     "data": {
      "text/plain": [
       "LinearRegression()"
      ]
     },
     "execution_count": 60,
     "metadata": {},
     "output_type": "execute_result"
    }
   ],
   "source": [
    "lr.fit(X_train, y_train)"
   ]
  },
  {
   "cell_type": "markdown",
   "metadata": {},
   "source": [
    "###### Interpreting Model Coefficients"
   ]
  },
  {
   "cell_type": "code",
   "execution_count": 61,
   "metadata": {},
   "outputs": [
    {
     "data": {
      "text/plain": [
       "13235.757551197008"
      ]
     },
     "execution_count": 61,
     "metadata": {},
     "output_type": "execute_result"
    }
   ],
   "source": [
    "lr.intercept_"
   ]
  },
  {
   "cell_type": "code",
   "execution_count": 62,
   "metadata": {},
   "outputs": [
    {
     "data": {
      "text/plain": [
       "array([3601.54016662,  127.25478304, 1927.33187613,  546.43956808,\n",
       "       9678.80663756,  275.26348394])"
      ]
     },
     "execution_count": 62,
     "metadata": {},
     "output_type": "execute_result"
    }
   ],
   "source": [
    "lr.coef_"
   ]
  },
  {
   "cell_type": "code",
   "execution_count": 63,
   "metadata": {},
   "outputs": [
    {
     "data": {
      "text/plain": [
       "['age', 'sex', 'bmi', 'children', 'smoker', 'id']"
      ]
     },
     "execution_count": 63,
     "metadata": {},
     "output_type": "execute_result"
    }
   ],
   "source": [
    "feature_cols"
   ]
  },
  {
   "cell_type": "code",
   "execution_count": 64,
   "metadata": {},
   "outputs": [
    {
     "data": {
      "text/plain": [
       "['Intercept', 'age', 'sex', 'bmi', 'children', 'smoker', 'id']"
      ]
     },
     "execution_count": 64,
     "metadata": {},
     "output_type": "execute_result"
    }
   ],
   "source": [
    "feature_cols.insert(0,'Intercept')\n",
    "feature_cols"
   ]
  },
  {
   "cell_type": "code",
   "execution_count": 65,
   "metadata": {},
   "outputs": [
    {
     "data": {
      "text/plain": [
       "[3601.5401666170865,\n",
       " 127.2547830421293,\n",
       " 1927.3318761341336,\n",
       " 546.4395680810156,\n",
       " 9678.80663755808,\n",
       " 275.2634839392688]"
      ]
     },
     "execution_count": 65,
     "metadata": {},
     "output_type": "execute_result"
    }
   ],
   "source": [
    "coef = lr.coef_.tolist()\n",
    "coef"
   ]
  },
  {
   "cell_type": "code",
   "execution_count": 66,
   "metadata": {},
   "outputs": [
    {
     "data": {
      "text/plain": [
       "[13235.757551197008,\n",
       " 3601.5401666170865,\n",
       " 127.2547830421293,\n",
       " 1927.3318761341336,\n",
       " 546.4395680810156,\n",
       " 9678.80663755808,\n",
       " 275.2634839392688]"
      ]
     },
     "execution_count": 66,
     "metadata": {},
     "output_type": "execute_result"
    }
   ],
   "source": [
    "coef.insert(0,lr.intercept_)\n",
    "coef"
   ]
  },
  {
   "cell_type": "code",
   "execution_count": 67,
   "metadata": {},
   "outputs": [
    {
     "name": "stdout",
     "output_type": "stream",
     "text": [
      "Intercept 13235.757551197008\n",
      "age 3601.5401666170865\n",
      "sex 127.2547830421293\n",
      "bmi 1927.3318761341336\n",
      "children 546.4395680810156\n",
      "smoker 9678.80663755808\n",
      "id 275.2634839392688\n"
     ]
    }
   ],
   "source": [
    "eq1 = zip(feature_cols, coef)\n",
    "\n",
    "for c1, c2 in eq1:\n",
    "    print(c1,c2)"
   ]
  },
  {
   "cell_type": "markdown",
   "metadata": {},
   "source": [
    "###### Using the Model for Prediction"
   ]
  },
  {
   "cell_type": "code",
   "execution_count": 68,
   "metadata": {},
   "outputs": [],
   "source": [
    "y_pred_train = lr.predict(X_train)"
   ]
  },
  {
   "cell_type": "code",
   "execution_count": 69,
   "metadata": {},
   "outputs": [],
   "source": [
    "y_pred_test = lr.predict(X_test)"
   ]
  },
  {
   "cell_type": "code",
   "execution_count": 70,
   "metadata": {},
   "outputs": [
    {
     "data": {
      "text/plain": [
       "array([ 5.61110369e+03,  7.58721281e+03,  3.18902597e+03,  1.20705015e+04,\n",
       "        1.27368417e+04,  1.32991321e+04,  3.56022866e+04,  5.70411293e+03,\n",
       "        9.71231166e+03, -4.08766770e+02,  7.85257874e+03,  6.13258020e+03,\n",
       "        8.63241807e+03,  5.88266054e+03,  8.78122760e+03,  5.84076417e+03,\n",
       "        5.50613108e+03,  1.57537106e+04,  8.89658805e+03,  5.93625804e+03,\n",
       "        1.32699601e+04,  1.23486296e+04,  1.05355504e+04,  7.21564558e+03,\n",
       "        1.86146373e+03,  1.57549852e+04,  1.13833586e+04,  1.08357979e+04,\n",
       "        7.92042196e+03,  4.73628832e+03,  3.42586743e+04,  9.87148482e+03,\n",
       "        2.70318129e+04,  2.74979358e+04,  1.26106558e+04,  1.13580676e+04,\n",
       "        1.14140144e+04,  1.03012472e+04,  1.49335816e+04,  1.02182004e+04,\n",
       "        7.69800989e+03,  8.06360806e+03,  8.26096948e+03,  1.27821190e+04,\n",
       "        7.76578520e+03,  1.07455996e+03,  1.24968744e+04, -8.64590671e+01,\n",
       "        5.90842308e+03,  3.22675317e+03,  1.23957162e+04,  6.56565889e+03,\n",
       "        3.61805463e+03,  1.05327161e+04,  6.61700731e+03,  3.52084802e+04,\n",
       "        2.86607166e+04,  1.12015375e+04,  3.61423711e+03,  1.62462403e+04,\n",
       "        1.09816657e+04,  2.94313084e+03,  3.48879398e+03,  1.35630379e+04,\n",
       "        4.94419415e+03, -9.72604363e+01,  5.73789494e+03,  4.77654582e+03,\n",
       "        2.55601611e+03,  1.23500227e+04,  1.16705722e+04,  3.13639004e+04,\n",
       "        8.05318292e+03,  1.28331728e+04,  4.21951922e+03,  3.38917776e+03,\n",
       "        8.31047229e+03,  1.46082726e+04,  7.45196985e+03,  1.27497540e+04,\n",
       "        1.29142538e+04,  7.03475058e+03,  1.78918550e+03,  9.01928985e+03,\n",
       "        3.69728246e+04,  1.07921347e+04,  3.38610710e+04,  1.19551053e+03,\n",
       "        3.62199123e+04,  6.85781418e+03,  1.74476202e+03,  1.40489089e+04,\n",
       "        1.73531898e+04,  2.55001443e+04,  1.00268444e+04,  3.60413216e+03,\n",
       "        3.97584950e+03,  3.66441988e+04,  7.77241418e+03,  2.65941196e+03,\n",
       "        5.05694185e+03,  2.96510566e+04,  8.87606755e+03,  2.86512891e+04,\n",
       "        3.89437048e+04,  7.55896839e+03,  5.45824551e+03,  1.32554548e+04,\n",
       "        8.23124930e+03,  9.69803212e+03,  9.49774409e+03, -8.75353391e+02,\n",
       "        1.12941082e+04,  3.71761350e+03,  1.40839930e+04,  1.36652238e+04,\n",
       "        8.24969710e+03,  1.32232530e+04,  3.89154307e+04,  8.61230726e+03,\n",
       "        1.30707928e+04,  1.28235570e+04,  8.11141760e+03,  5.63873257e+03,\n",
       "        4.07633865e+03,  4.50219443e+03,  3.04656103e+04,  2.61461317e+04,\n",
       "        7.18778333e+03,  4.53235173e+03,  3.76937456e+04,  3.67039554e+04,\n",
       "        2.77663106e+04,  9.57154300e+03,  3.41817006e+04,  8.18746937e+03,\n",
       "        5.25665630e+03,  8.13180897e+03,  2.91377595e+02,  7.07283769e+03,\n",
       "        1.46598036e+04,  6.53971197e+03,  2.85680503e+04,  1.15435461e+04,\n",
       "        4.31417087e+03,  7.77342158e+03,  1.06127887e+04,  1.52162107e+04,\n",
       "        1.08777083e+04,  1.20032172e+04,  2.79518500e+04,  1.18671831e+04,\n",
       "        1.34761985e+03,  1.14473044e+04,  3.39292727e+04,  3.34612079e+04,\n",
       "        1.00101751e+04,  3.43064926e+04,  9.86036880e+03,  9.71517034e+03,\n",
       "        1.53658725e+04,  2.82223274e+04,  3.93575620e+04,  8.92849994e+03,\n",
       "        9.35161284e+03,  1.26839448e+04,  1.31993282e+04,  7.10858805e+03,\n",
       "        1.12569934e+04,  3.20340662e+04,  1.61206121e+04,  1.05253601e+04,\n",
       "        7.50122671e+03,  2.18368542e+03,  3.18887728e+03,  1.02480365e+04,\n",
       "        6.77451442e+03,  4.51490335e+02,  9.09533357e+03,  8.31427303e+03,\n",
       "        6.59022200e+03,  1.24006464e+04,  2.68779615e+04,  7.37283106e+03,\n",
       "        3.75502192e+04,  3.54712122e+03,  6.38706178e+03,  3.35463625e+04,\n",
       "        6.55002090e+02,  2.87147084e+04,  3.37014984e+04,  2.64289164e+03,\n",
       "        5.67364295e+02,  1.06361245e+04,  7.65570691e+03,  4.11178464e+04,\n",
       "        4.81274751e+03,  1.03863797e+04,  1.43058261e+04,  5.46490388e+03,\n",
       "        1.10864551e+04,  1.94209361e+03,  3.57388963e+04,  1.43870314e+04,\n",
       "        1.48424229e+04,  3.84893810e+03,  4.82298860e+03,  9.35575358e+03,\n",
       "        3.56937559e+03, -2.39074878e+03,  3.43483403e+04,  6.56667869e+03,\n",
       "        7.39116390e+03,  4.79810109e+03,  4.13170443e+03,  1.09600971e+04,\n",
       "        3.89356786e+04,  1.05883352e+04,  1.45004214e+04,  3.47926302e+03,\n",
       "       -1.56795356e+02,  2.35990283e+04,  6.90420280e+03,  1.22393980e+03,\n",
       "        1.46294359e+04,  1.08108592e+04,  1.42793817e+04,  7.07249812e+03,\n",
       "        4.44655411e+03,  6.61561802e+03,  3.80600205e+04,  5.37299731e+03,\n",
       "        6.45170753e+03,  9.85134902e+03,  2.73459448e+04,  6.45661724e+03,\n",
       "        4.16570473e+04,  4.93412635e+03,  1.05782209e+04,  1.27951426e+04,\n",
       "        9.85731457e+03,  1.19812739e+04,  9.06048567e+03,  5.60730339e+03,\n",
       "        2.63978467e+04,  2.87178954e+04,  1.16955012e+04,  2.69109552e+04,\n",
       "        1.14984810e+04,  2.83182904e+04,  6.03376729e+03,  3.14215965e+03,\n",
       "        3.82698359e+03,  9.43550478e+03,  2.58103114e+03,  2.76189044e+04,\n",
       "        1.02992778e+04,  2.57956383e+03,  8.50718493e+03,  3.00525880e+04,\n",
       "        1.58349459e+04,  8.82512776e+03,  1.28675239e+04,  2.38666368e+04,\n",
       "        1.73664607e+04,  3.65374157e+04,  8.72995411e+03,  4.62297838e+03,\n",
       "        1.59432380e+04,  1.11512277e+04,  1.00904845e+04,  6.84749524e+03,\n",
       "       -8.32882607e+02,  1.19912762e+04,  1.33822022e+04,  3.82945965e+04,\n",
       "        1.09350374e+04,  1.59705276e+04,  4.74183078e+03,  8.19545071e+03,\n",
       "        1.64125020e+04,  6.63384526e+03,  5.57484521e+03,  1.17977874e+04,\n",
       "        3.80202152e+03,  9.22135233e+03,  4.43069216e+03,  6.74900371e+03,\n",
       "        1.40322655e+04,  1.26598667e+04,  1.03170824e+04,  5.91388963e+03,\n",
       "        3.00342683e+04,  3.78742837e+03,  8.44129051e+03,  1.18219680e+04,\n",
       "        8.92073923e+03,  2.82074454e+04,  4.05358760e+04,  1.31166582e+04,\n",
       "        6.54150470e+03,  1.40749181e+04,  1.13273978e+04,  1.48055844e+04,\n",
       "        4.08311047e+03,  1.24313192e+04,  4.35813781e+03,  1.46987814e+04,\n",
       "        9.90767328e+03,  2.89985478e+04,  2.92484328e+04,  2.91532912e+04,\n",
       "        2.83802275e+04,  1.08920154e+04,  2.79920134e+04,  1.12634098e+04,\n",
       "        1.32503858e+04,  2.60766416e+04,  8.06925917e+03,  1.08644937e+04,\n",
       "        8.21691601e+03,  1.15565870e+04,  9.61843715e+03,  1.19631614e+04,\n",
       "        1.18728297e+04,  3.18875583e+04,  3.48968266e+04,  1.35348609e+04,\n",
       "        1.50693976e+04,  9.06835632e+03,  2.71382788e+04,  6.05744838e+03,\n",
       "        1.18013782e+04,  1.22944617e+04,  6.31577623e+03,  4.28129309e+03,\n",
       "        1.01178990e+04, -9.96108663e+02,  5.17915561e+03,  1.24872800e+04,\n",
       "        1.18003519e+04,  1.37408126e+03,  4.39947528e+03,  2.49267495e+03,\n",
       "        1.76548833e+04,  5.44348313e+03,  4.04621292e+03,  5.52856753e+03,\n",
       "        3.26130578e+03,  1.59778460e+04,  1.74329658e+04,  3.09591180e+04,\n",
       "        1.04330578e+04,  1.51666035e+04,  5.29487861e+03,  3.82516328e+04,\n",
       "        2.18063883e+03,  1.01485082e+04,  3.16452093e+04,  9.69779836e+03,\n",
       "        1.15250416e+04,  6.04504374e+03,  5.90741758e+03,  1.45687776e+04,\n",
       "        2.90494506e+04,  1.59205249e+04,  3.16614177e+04,  3.58831668e+04,\n",
       "        8.68566750e+03,  6.46113058e+03,  3.06142034e+04,  3.16945584e+04,\n",
       "        9.56880158e+03,  3.83727164e+04,  1.72225097e+04,  1.01134890e+04,\n",
       "        3.43686579e+04,  9.86424744e+03,  3.67074192e+03,  3.43592087e+03,\n",
       "        9.46825678e+03,  2.67037977e+04,  1.27150125e+04,  1.11453955e+04,\n",
       "        3.04796401e+04,  8.75234526e+03,  1.96009505e+03,  1.08107508e+04,\n",
       "        8.63267944e+03,  1.10208009e+04,  9.54010031e+03,  1.03246102e+04,\n",
       "        6.00772218e+03,  4.06948891e+03,  3.00063061e+04,  4.19419515e+03,\n",
       "        1.81716351e+04,  7.40459616e+03,  3.12149699e+04,  5.78923071e+03,\n",
       "        9.48776834e+03,  8.14318865e+03,  2.84155069e+04,  1.02035470e+04,\n",
       "        1.79930626e+04,  4.05449147e+03,  3.42262488e+04,  2.83411852e+04,\n",
       "        5.11843096e+03,  7.96900515e+03,  7.21152401e+03,  1.59960911e+04,\n",
       "        7.86940249e+03,  1.50125829e+04,  1.91245891e+03,  3.81915104e+03,\n",
       "        4.63931655e+03,  3.50378679e+04,  6.97748597e+03,  8.95580180e+03,\n",
       "        9.60774799e+03,  1.25845800e+04,  9.77846611e+03,  9.96365011e+03,\n",
       "        8.46656285e+02,  3.45665749e+04,  2.68071293e+04,  3.39907713e+04,\n",
       "        6.87669402e+03,  2.53252892e+04,  7.09348392e+03,  8.11165940e+03,\n",
       "        3.29587686e+04,  1.21820673e+04,  2.82418937e+03,  1.12694939e+04,\n",
       "        1.72602062e+04,  5.38244578e+03,  1.46061221e+04,  8.35070397e+03,\n",
       "        1.86176398e+04,  1.42632579e+04,  3.46896299e+04,  2.78633505e+04,\n",
       "        4.67590644e+02,  1.31355245e+04,  9.07446333e+03,  1.02048348e+04,\n",
       "        5.52660305e+03,  1.08652898e+04,  1.37048146e+04,  3.41896046e+03,\n",
       "        3.98059761e+04,  4.09112624e+03,  1.31656506e+04,  3.53768441e+04,\n",
       "        6.61822294e+03,  1.01072753e+04,  3.22059414e+04,  5.49810022e+03,\n",
       "        3.08142855e+04,  1.16575369e+04,  5.29097377e+03,  1.21192080e+04,\n",
       "        3.05530177e+04,  5.82366689e+03, -1.76965986e+03,  1.07336990e+04,\n",
       "        3.25681675e+04,  3.75688568e+04,  2.30237495e+04,  5.77311043e+03,\n",
       "        9.27841137e+03,  3.41658609e+04,  3.38373524e+04,  1.13826545e+04,\n",
       "        1.40554400e+04,  1.00074098e+04,  1.20235984e+04,  1.45644438e+04,\n",
       "        9.37935662e+03,  2.75410719e+04,  1.36420539e+04,  1.03351005e+04,\n",
       "        1.90971934e+03,  4.91509706e+03,  1.36022098e+04,  1.19078024e+04,\n",
       "        1.44336400e+04,  1.37198312e+03,  4.88157135e+03,  1.10227193e+04,\n",
       "        1.37043083e+04,  3.19207864e+03,  1.19966558e+04,  3.59437651e+03,\n",
       "        1.36617903e+04,  3.34462237e+04,  3.09340253e+04,  1.69813565e+04,\n",
       "        3.37563032e+03,  2.98579344e+04,  1.55189911e+04,  1.17975086e+04,\n",
       "        2.72229939e+04,  1.42638448e+04,  3.65208142e+04,  8.08435451e+03,\n",
       "        1.72180389e+04,  2.77851478e+04,  1.15958500e+04,  1.66427924e+04,\n",
       "        1.55472822e+04,  8.56230472e+03,  3.71831033e+04,  5.16660706e+03,\n",
       "        1.32484830e+04,  3.99911312e+04,  1.24896853e+03,  3.20508392e+04,\n",
       "        1.19642724e+04,  1.18175229e+04,  6.67778458e+03,  6.80679590e+03,\n",
       "        3.97249383e+04,  3.38855280e+04,  1.38002683e+04,  3.28496309e+04,\n",
       "        1.46608991e+04,  3.75110686e+04,  3.60747110e+04,  4.63235155e+03,\n",
       "        9.07095638e+02,  1.09816061e+04,  1.30865738e+04,  8.49837620e+03,\n",
       "        3.13833213e+03,  6.90335192e+03,  2.85593119e+03,  3.73497740e+04,\n",
       "        6.55772325e+03,  3.27808816e+04,  3.53776178e+04,  1.07804358e+04,\n",
       "        1.28803616e+04,  1.25164608e+04,  1.45327148e+03,  3.76748223e+03,\n",
       "        6.71249618e+03,  1.01978404e+04,  1.09548789e+04,  5.85813996e+03,\n",
       "        5.00215645e+03,  7.07559316e+03,  4.16699250e+03,  1.12688473e+04,\n",
       "        1.40099397e+04,  3.22153923e+04,  7.95529190e+03,  1.50288300e+04,\n",
       "        1.14425788e+04,  1.23267181e+04,  3.39844429e+03,  5.16825192e+03,\n",
       "        2.84768145e+04,  6.28832785e+03,  9.24666841e+03,  6.26398758e+03,\n",
       "        3.30522369e+03,  3.01031200e+04,  5.06785231e+03,  1.14296019e+04,\n",
       "        1.21610477e+04,  1.21522926e+04,  9.76496018e+03,  1.14089385e+04,\n",
       "        4.67699292e+03,  1.08289310e+04,  3.61963826e+04,  6.64899715e+03,\n",
       "        4.58561707e+03,  8.14444663e+03,  8.46399343e+03,  6.93864452e+03,\n",
       "        1.34495963e+04,  6.46040436e+03,  2.48971319e+03,  3.03924977e+04,\n",
       "        1.21545784e+04,  1.31163971e+04,  1.06769787e+04,  6.84129377e+03,\n",
       "        4.86282826e+03,  2.95348246e+04,  1.10621644e+04,  1.34175261e+04,\n",
       "        1.62981852e+04,  8.54539425e+03,  1.48077869e+04,  3.69811478e+03,\n",
       "        9.46092376e+03,  1.09457593e+04,  8.59329917e+03,  2.79550738e+03,\n",
       "        3.30526388e+04,  2.69635170e+03,  1.51167977e+04,  1.27343366e+04,\n",
       "        3.08673321e+04,  1.27794175e+04,  4.36273527e+03,  1.69233977e+04,\n",
       "        3.77635570e+04,  3.43224576e+04,  9.97801760e+03,  3.30478101e+04,\n",
       "        4.88438229e+03,  6.41075162e+03,  1.12569158e+04,  8.71493928e+03,\n",
       "        5.54593693e+03,  1.00466806e+04,  1.09844842e+04,  9.60326770e+03,\n",
       "        1.03200409e+04,  8.73991155e+03,  7.68000582e+03,  6.68466123e+03,\n",
       "        5.64391426e+03,  1.26502127e+03,  4.02697546e+04,  2.16680360e+03,\n",
       "        3.62404323e+03,  3.43613441e+03,  7.28314822e+03,  3.29970052e+04,\n",
       "        1.26873793e+04,  3.99892097e+04,  6.21430530e+03,  3.33373075e+04,\n",
       "        2.49559788e+04,  1.14300316e+04,  6.29932839e+03,  1.14081432e+04,\n",
       "        5.36619122e+03,  7.89036752e+03,  3.07068183e+04,  1.12649966e+04,\n",
       "        3.00155784e+04,  3.20566829e+04,  9.73907636e+03,  9.49950410e+01,\n",
       "        1.11071637e+04,  1.46290659e+04,  9.85315938e+03,  5.79900604e+03,\n",
       "        1.58906199e+04,  1.49705842e+04,  2.47673750e+04,  1.07359263e+04,\n",
       "        2.88870249e+02,  6.22406965e+03,  3.18419356e+04,  8.48434156e+03,\n",
       "        8.44816177e+03,  2.45091484e+04,  2.45412259e+04,  3.10649581e+03,\n",
       "        1.83926631e+03,  5.66244363e+03,  2.65041514e+04,  2.01501147e+03,\n",
       "        2.32333237e+03,  5.38454252e+03,  3.99385507e+03,  9.31797484e+03,\n",
       "        1.52942121e+04,  3.04022675e+04,  3.97403169e+03,  5.28395274e+03,\n",
       "        3.73400484e+03,  1.90977718e+03,  6.71956752e+03,  1.34694342e+04,\n",
       "        3.59967753e+04,  7.61395428e+03,  2.64941973e+03,  2.90540469e+03,\n",
       "        5.62626533e+02,  6.19687655e+03,  1.16420895e+04,  2.08712206e+03,\n",
       "        2.49744552e+03,  3.75302343e+04,  4.84724713e+03,  1.50970275e+04,\n",
       "        2.00941819e+03,  3.46072938e+04,  1.05278949e+04,  7.79015650e+02,\n",
       "        8.49826185e+03,  8.33702434e+03,  3.80560190e+04,  1.94894403e+03,\n",
       "        7.26939331e+03,  9.95404363e+03,  9.65374485e+03,  5.03779684e+02,\n",
       "        1.13449104e+04,  2.90400034e+04,  9.82515673e+03, -6.18207035e+02,\n",
       "        2.39908461e+04,  1.18674604e+04,  5.37128113e+03,  9.90133838e+03,\n",
       "        3.64873060e+03,  5.05874908e+03,  3.88042575e+04,  1.14403287e+04,\n",
       "        1.59993507e+04,  2.33392956e+03,  6.88114169e+03,  3.99193733e+03,\n",
       "        7.76738588e+03,  1.34953008e+04,  2.48334897e+03,  3.64115373e+02,\n",
       "        4.93930353e+03,  3.92719586e+04,  3.49136764e+03,  2.25389937e+03,\n",
       "        5.57528365e+03,  3.51814767e+03,  7.72934993e+03,  1.20143909e+04,\n",
       "        1.32369595e+04,  2.47057412e+03,  3.43269905e+03,  3.50169160e+04,\n",
       "        2.10679723e+03,  3.90681138e+04,  4.58012465e+03,  6.04036715e+03,\n",
       "        1.21505286e+04,  8.12100225e+03,  8.07580169e+03,  4.48458405e+03,\n",
       "        5.72037905e+03,  9.14270655e+03,  8.45394766e+02,  2.98558858e+04,\n",
       "        3.04584146e+04,  9.10319015e+03,  1.58980427e+04,  3.51379470e+03,\n",
       "        1.09661800e+04,  6.72143841e+03,  1.53702906e+04,  1.37595487e+04,\n",
       "        1.42668546e+04,  1.24133614e+04,  3.09736918e+04,  3.19685465e+04,\n",
       "        7.93687889e+03,  1.63498726e+01,  2.58461150e+04,  3.51868678e+04,\n",
       "        5.01544080e+03,  3.08474951e+04,  1.13423716e+04,  7.35910740e+03,\n",
       "        7.01504860e+03,  1.49391435e+04,  1.11689824e+04,  6.97433285e+03,\n",
       "        1.38375944e+04,  2.95466883e+04,  3.52932416e+03,  5.07632195e+03,\n",
       "        2.69227856e+03,  1.15926348e+04,  9.85865027e+03,  1.15239427e+04,\n",
       "        1.42476249e+04,  7.23019145e+03,  3.06417708e+03,  3.42202776e+04,\n",
       "       -3.24956134e+02,  1.03544082e+04,  2.16421468e+03,  8.08524547e+03,\n",
       "        1.49834902e+04,  3.82972755e+04,  1.10393991e+04,  4.45030062e+02,\n",
       "        3.03839081e+04,  6.61481783e+03,  1.06553722e+04,  2.45152297e+03,\n",
       "        8.20714420e+03,  1.64157541e+04])"
      ]
     },
     "execution_count": 70,
     "metadata": {},
     "output_type": "execute_result"
    }
   ],
   "source": [
    "y_pred_train"
   ]
  },
  {
   "cell_type": "code",
   "execution_count": 71,
   "metadata": {},
   "outputs": [
    {
     "data": {
      "text/plain": [
       "array([10956.96260416,  9508.67292482, 30310.22504337,  9608.64482875,\n",
       "       12852.54680701, 12109.95713299, 28331.56989216, 12076.86351245,\n",
       "         556.05717882,  9256.61835061,  5545.01743532, 16541.25810156,\n",
       "        8820.73232633,  9833.75030202, 36862.72612848, 34764.92635228,\n",
       "       13816.07252624, 29224.48949678, 11074.29888163,  5766.78138453,\n",
       "        3416.07394709, 11091.2638688 , 34413.19259716,  6526.89164478,\n",
       "        8560.38095533,  5217.32601925, 10116.81106601,  4021.70708705,\n",
       "        6515.91774991, 25659.77115241, 29481.45607365,  3426.21240446,\n",
       "       17061.05935796,   842.3343721 ,  9293.84922107, 15665.53641362,\n",
       "       10202.13228316, 36230.17200531, 26760.82023998,  8972.47715007,\n",
       "        4590.60513878,  9776.4504303 , 10438.05315867, 10549.17357391,\n",
       "       13421.39383694,  6927.5171642 , 10923.10317855,  -977.69920696,\n",
       "         -98.02655317, 12150.51454915,  7411.34541093, 16270.93796147,\n",
       "       13095.86148458,  3565.99994596,  1798.73383055,  7557.02853544,\n",
       "        7246.01767198, 38271.84851448, 12355.61026479,  1458.72228171,\n",
       "       28397.53890284, 37009.84141495, 13087.97391037,  3158.73248209,\n",
       "       16263.12273895,  5157.28397991, 15679.84147541, 25958.31383567,\n",
       "       12440.6034028 ,  5614.87776429,  9321.36121129, 13676.70775357,\n",
       "       26902.27737242,  7623.24948976,  3983.56018728,  1629.28268526,\n",
       "       35193.57122535, 28892.44693957, 37463.10519705, 29198.78659183,\n",
       "        8590.07980231, 33573.53248387,  1090.52150285,  6946.44199501,\n",
       "        4689.47975168,  4550.96460414, 10774.97344351,  8394.23154472,\n",
       "        3027.805408  , 35212.96783221, 26813.97859561, 12038.41556655,\n",
       "       15101.64890829, 29422.43448169, 12747.98683138, 29038.74568724,\n",
       "        5299.57035407, 28625.66098037,  8801.81259501,  7857.09321961,\n",
       "       12432.0099747 , 12295.04295319,  9136.74780847, 10416.88096007,\n",
       "       10840.55065933, 15122.00223659,  1400.28641274,  8041.72894614,\n",
       "        9276.29485325,  1650.18031088, 15266.77614014, 11434.92719104,\n",
       "        5591.89722139,   484.62011473,  9825.8567343 ,  2227.75392409,\n",
       "       11102.71436214, 34566.09644366,  9471.99879621,  9596.07621525,\n",
       "        3795.58993256,  3526.97961043, 29675.72046639,  7797.24219512,\n",
       "        5242.58925274,  9658.45357534,  1200.46161277,  6464.12214013,\n",
       "       12017.60843028, 14220.0388877 , 29928.74587134,  8982.0385861 ,\n",
       "       15176.19195189,  9761.45725242, 12837.94320325,  7261.50218354,\n",
       "       33833.53240374,  9762.4202402 ,  7334.28436126, 15442.69951302,\n",
       "       10925.67394814, 39128.66221286,  4925.2133132 , 13038.46056007,\n",
       "        5524.90156876, 13609.13051173,  7311.43431796, 10618.60686898,\n",
       "        4125.78011406, 13571.05962463, 11782.70959539, 29157.53602984,\n",
       "       24528.08569785,  1142.69015243, 29627.04072938, 10177.08988084,\n",
       "        3159.30161424,  8365.02391558, 23827.75889151,  9555.57950401,\n",
       "        5654.40280255, 30857.17319761, 30062.21199099, 30442.17101971,\n",
       "        4956.38215511, 31013.10141746,  9773.72500121,  1583.22854874,\n",
       "       30440.51697559,  9109.35890262,  7519.08849992,   496.16687847,\n",
       "        7578.20809096,  8753.5747987 ,  8983.48240367, 32197.16297859,\n",
       "       36321.08995563,  8185.9432234 ,  9027.87864059,  9214.87791765,\n",
       "        5289.24122748, 32122.67275692, 14343.26151929, 12836.79051568,\n",
       "        3047.0151054 ,  1959.91802978, 33018.50760755, 14438.8627008 ,\n",
       "       10932.64378416,  6455.96248878,  7075.25169477,  5145.23415691,\n",
       "        3123.87120304, 13757.36971488,  2608.89914825,  6854.45754946,\n",
       "        2476.31351479, 15097.55598807,  3943.44490679, 11103.65746327,\n",
       "        7107.21619479])"
      ]
     },
     "execution_count": 71,
     "metadata": {},
     "output_type": "execute_result"
    }
   ],
   "source": [
    "y_pred_test"
   ]
  },
  {
   "cell_type": "code",
   "execution_count": 72,
   "metadata": {},
   "outputs": [
    {
     "data": {
      "text/plain": [
       "array([[ 0.53889385, -0.92796073,  0.37232702, -0.11773266, -0.5216818 ,\n",
       "         1.06965852],\n",
       "       [ 0.97477983, -0.92796073, -0.62558332, -1.02789672, -0.5216818 ,\n",
       "        -1.10097613],\n",
       "       [-0.69611641,  1.07763181,  0.98216112, -1.02789672,  1.91687731,\n",
       "        -1.59820291],\n",
       "       ...,\n",
       "       [-1.42259303, -0.92796073,  0.3335194 ,  0.79243139, -0.5216818 ,\n",
       "        -0.28067815],\n",
       "       [ 0.53889385,  1.07763181,  0.42776649, -0.11773266, -0.5216818 ,\n",
       "         0.28722045],\n",
       "       [-0.76876407,  1.07763181,  0.39265483,  0.79243139, -0.5216818 ,\n",
       "         1.31700991]])"
      ]
     },
     "execution_count": 72,
     "metadata": {},
     "output_type": "execute_result"
    }
   ],
   "source": [
    "X_test"
   ]
  },
  {
   "cell_type": "markdown",
   "metadata": {},
   "source": [
    "###### y = 13235.757551197006 + age * 3601.5401666170856 + sex * 127.25478304212501 + bmi * 1927.3318761341295 + children * 546.4395680810161 + smoker * 9678.806637558071 + id * 275.26348393926503"
   ]
  },
  {
   "cell_type": "code",
   "execution_count": 73,
   "metadata": {},
   "outputs": [
    {
     "data": {
      "text/plain": [
       "10956.962568567047"
      ]
     },
     "execution_count": 73,
     "metadata": {},
     "output_type": "execute_result"
    }
   ],
   "source": [
    "y = 13235.757551197006 + (0.53889385 * 3601.5401666170856) + (-0.92796073 * 127.25478304212501) + (0.37232702 * 1927.3318761341295) + (-0.11773266 * 546.4395680810161) + (-0.5216818 * 9678.806637558071) + (1.06965852 * 275.26348393926503)\n",
    "y"
   ]
  },
  {
   "cell_type": "markdown",
   "metadata": {},
   "source": [
    "###### Model evaluation"
   ]
  },
  {
   "cell_type": "code",
   "execution_count": 74,
   "metadata": {},
   "outputs": [],
   "source": [
    "from sklearn.metrics import mean_absolute_error, mean_squared_error"
   ]
  },
  {
   "cell_type": "code",
   "execution_count": 75,
   "metadata": {},
   "outputs": [],
   "source": [
    "MAE_train = mean_absolute_error(y_train, y_pred_train)\n",
    "MAE_test = mean_absolute_error(y_test, y_pred_test)"
   ]
  },
  {
   "cell_type": "code",
   "execution_count": 76,
   "metadata": {},
   "outputs": [
    {
     "name": "stdout",
     "output_type": "stream",
     "text": [
      "MAE for training set is 4076.101580133016\n",
      "MAE for test set is 4377.721065786468\n"
     ]
    }
   ],
   "source": [
    "print('MAE for training set is {}'.format(MAE_train))\n",
    "print('MAE for test set is {}'.format(MAE_test))"
   ]
  },
  {
   "cell_type": "code",
   "execution_count": 77,
   "metadata": {},
   "outputs": [],
   "source": [
    "MSE_train = mean_squared_error(y_train, y_pred_train)\n",
    "MSE_test = mean_squared_error(y_test, y_pred_test)"
   ]
  },
  {
   "cell_type": "code",
   "execution_count": 78,
   "metadata": {},
   "outputs": [
    {
     "name": "stdout",
     "output_type": "stream",
     "text": [
      "MSE for training set is 36109037.557732806\n",
      "MSE for testing is 40662914.70286329\n"
     ]
    }
   ],
   "source": [
    "print('MSE for training set is {}'.format(MSE_train))\n",
    "print('MSE for testing is {}'.format(MSE_test))"
   ]
  },
  {
   "cell_type": "markdown",
   "metadata": {},
   "source": [
    "###### Model Evaluation using Rsquared value"
   ]
  },
  {
   "cell_type": "code",
   "execution_count": 79,
   "metadata": {},
   "outputs": [],
   "source": [
    "from sklearn.metrics import r2_score"
   ]
  },
  {
   "cell_type": "code",
   "execution_count": 80,
   "metadata": {},
   "outputs": [],
   "source": [
    "r2_score_train = r2_score(y_train, y_pred_train)\n",
    "r2_score_test = r2_score(y_test, y_pred_test)"
   ]
  },
  {
   "cell_type": "code",
   "execution_count": 81,
   "metadata": {},
   "outputs": [
    {
     "data": {
      "text/plain": [
       "0.7551983744273858"
      ]
     },
     "execution_count": 81,
     "metadata": {},
     "output_type": "execute_result"
    }
   ],
   "source": [
    "r2_score_train"
   ]
  },
  {
   "cell_type": "code",
   "execution_count": 82,
   "metadata": {},
   "outputs": [
    {
     "data": {
      "text/plain": [
       "0.6997769018052864"
      ]
     },
     "execution_count": 82,
     "metadata": {},
     "output_type": "execute_result"
    }
   ],
   "source": [
    "r2_score_test"
   ]
  },
  {
   "cell_type": "code",
   "execution_count": 83,
   "metadata": {
    "scrolled": true
   },
   "outputs": [
    {
     "name": "stdout",
     "output_type": "stream",
     "text": [
      "Rsquared value for training set is 0.7551983744273858\n",
      "Rsquared for testing set is 0.6997769018052864\n"
     ]
    }
   ],
   "source": [
    "print('Rsquared value for training set is {}'.format(r2_score_train))\n",
    "print('Rsquared for testing set is {}'.format(r2_score_test))"
   ]
  },
  {
   "cell_type": "markdown",
   "metadata": {},
   "source": [
    "###### Applying Random Forest Regressor "
   ]
  },
  {
   "cell_type": "code",
   "execution_count": 94,
   "metadata": {},
   "outputs": [
    {
     "data": {
      "text/html": [
       "<div>\n",
       "<style scoped>\n",
       "    .dataframe tbody tr th:only-of-type {\n",
       "        vertical-align: middle;\n",
       "    }\n",
       "\n",
       "    .dataframe tbody tr th {\n",
       "        vertical-align: top;\n",
       "    }\n",
       "\n",
       "    .dataframe thead th {\n",
       "        text-align: right;\n",
       "    }\n",
       "</style>\n",
       "<table border=\"1\" class=\"dataframe\">\n",
       "  <thead>\n",
       "    <tr style=\"text-align: right;\">\n",
       "      <th></th>\n",
       "      <th>age</th>\n",
       "      <th>sex</th>\n",
       "      <th>bmi</th>\n",
       "      <th>children</th>\n",
       "      <th>smoker</th>\n",
       "      <th>region</th>\n",
       "      <th>id</th>\n",
       "      <th>charges</th>\n",
       "    </tr>\n",
       "  </thead>\n",
       "  <tbody>\n",
       "    <tr>\n",
       "      <th>0</th>\n",
       "      <td>24</td>\n",
       "      <td>0</td>\n",
       "      <td>23.655</td>\n",
       "      <td>0</td>\n",
       "      <td>0</td>\n",
       "      <td>3</td>\n",
       "      <td>693</td>\n",
       "      <td>2352.96845</td>\n",
       "    </tr>\n",
       "    <tr>\n",
       "      <th>1</th>\n",
       "      <td>28</td>\n",
       "      <td>1</td>\n",
       "      <td>26.510</td>\n",
       "      <td>2</td>\n",
       "      <td>0</td>\n",
       "      <td>0</td>\n",
       "      <td>1297</td>\n",
       "      <td>4340.44090</td>\n",
       "    </tr>\n",
       "    <tr>\n",
       "      <th>2</th>\n",
       "      <td>51</td>\n",
       "      <td>0</td>\n",
       "      <td>39.700</td>\n",
       "      <td>1</td>\n",
       "      <td>0</td>\n",
       "      <td>2</td>\n",
       "      <td>634</td>\n",
       "      <td>9391.34600</td>\n",
       "    </tr>\n",
       "    <tr>\n",
       "      <th>3</th>\n",
       "      <td>47</td>\n",
       "      <td>0</td>\n",
       "      <td>36.080</td>\n",
       "      <td>1</td>\n",
       "      <td>1</td>\n",
       "      <td>0</td>\n",
       "      <td>1022</td>\n",
       "      <td>42211.13820</td>\n",
       "    </tr>\n",
       "    <tr>\n",
       "      <th>4</th>\n",
       "      <td>46</td>\n",
       "      <td>1</td>\n",
       "      <td>28.900</td>\n",
       "      <td>2</td>\n",
       "      <td>0</td>\n",
       "      <td>2</td>\n",
       "      <td>178</td>\n",
       "      <td>8823.27900</td>\n",
       "    </tr>\n",
       "  </tbody>\n",
       "</table>\n",
       "</div>"
      ],
      "text/plain": [
       "   age  sex     bmi  children  smoker  region    id      charges\n",
       "0   24    0  23.655         0       0       3   693   2352.96845\n",
       "1   28    1  26.510         2       0       0  1297   4340.44090\n",
       "2   51    0  39.700         1       0       2   634   9391.34600\n",
       "3   47    0  36.080         1       1       0  1022  42211.13820\n",
       "4   46    1  28.900         2       0       2   178   8823.27900"
      ]
     },
     "execution_count": 94,
     "metadata": {},
     "output_type": "execute_result"
    }
   ],
   "source": [
    "df_train_copy.head()"
   ]
  },
  {
   "cell_type": "code",
   "execution_count": 95,
   "metadata": {},
   "outputs": [
    {
     "name": "stdout",
     "output_type": "stream",
     "text": [
      "Size of X_train_ :  (802, 7)\n",
      "Size of y_train_ :  (802, 1)\n",
      "Size of X_test_ :  (201, 7)\n",
      "Size of Y_test_ :  (201, 1)\n"
     ]
    }
   ],
   "source": [
    "X_ = df_train_copy.drop('charges',axis=1).values\n",
    "y_ = df_train_copy['charges'].values.reshape(-1,1)\n",
    "\n",
    "from sklearn.model_selection import train_test_split\n",
    "X_train_, X_test_, y_train_, y_test_ = train_test_split(X_,y_,test_size=0.2, random_state=42)\n",
    "\n",
    "print('Size of X_train_ : ', X_train_.shape)\n",
    "print('Size of y_train_ : ', y_train_.shape)\n",
    "print('Size of X_test_ : ', X_test_.shape)\n",
    "print('Size of Y_test_ : ', y_test_.shape)"
   ]
  },
  {
   "cell_type": "code",
   "execution_count": 96,
   "metadata": {},
   "outputs": [],
   "source": [
    "from sklearn.ensemble import RandomForestRegressor\n",
    "from sklearn.datasets import make_regression\n",
    "from sklearn.model_selection import GridSearchCV"
   ]
  },
  {
   "cell_type": "code",
   "execution_count": 97,
   "metadata": {},
   "outputs": [
    {
     "data": {
      "text/plain": [
       "RandomForestRegressor(max_depth=50, min_samples_leaf=12, min_samples_split=7,\n",
       "                      n_estimators=1200)"
      ]
     },
     "execution_count": 97,
     "metadata": {},
     "output_type": "execute_result"
    }
   ],
   "source": [
    "rf_reg = RandomForestRegressor(max_depth=50, min_samples_leaf=12, min_samples_split=7,\n",
    "                       n_estimators=1200)\n",
    "rf_reg.fit(X_train_, y_train_.ravel())"
   ]
  },
  {
   "cell_type": "code",
   "execution_count": 99,
   "metadata": {},
   "outputs": [
    {
     "data": {
      "text/plain": [
       "array([ 2960.03455795, 44423.12656103,  5262.3213163 ,  5844.82192609,\n",
       "       11743.77869883,  7031.59722422,  8958.94661789, 11221.14004961,\n",
       "       14562.94079108, 17443.6308314 ,  7238.33743327, 12841.85175679,\n",
       "        5364.0801801 , 11443.95713442, 10007.26168481,  4378.31324786,\n",
       "       13107.43479793,  4564.78691167, 11786.66019793, 18631.076579  ,\n",
       "       18849.65327403,  5866.77490094,  2807.29228673, 19899.55406672,\n",
       "       25270.16529786, 19565.10003745, 10801.00178321, 10708.22550355,\n",
       "       11944.6627548 , 17294.70233471, 36062.19077923, 41851.76868125,\n",
       "       13208.20762887,  6674.02487001, 18296.43066988, 11008.6443131 ,\n",
       "       13919.83919637,  2853.40960472, 14490.86952411,  3803.04713544,\n",
       "        2967.93681253, 44543.06957338,  3578.99078421,  5755.23509609,\n",
       "        7985.5128511 , 19530.83131846, 44143.8008636 , 17702.92034504,\n",
       "       43845.7204412 , 13411.09249141, 12290.50916499,  5786.28072549,\n",
       "        7650.25346862,  5592.02549758,  2544.35352922,  4690.51004788,\n",
       "        7612.50687492,  7980.3075544 ,  6349.66055603, 15078.36568442,\n",
       "        3138.35811977, 14361.96261102,  9410.91886301,  6838.72690587,\n",
       "        3143.68347579, 17456.6373642 ,  2190.57148884, 12823.73572682,\n",
       "        4776.05694607,  6606.02782565, 14917.72282766, 12190.78060593,\n",
       "       36432.28901788,  6777.27083248,  5421.36122988, 14591.30322282,\n",
       "        3176.12035358, 14778.05291676, 10694.88374252, 23292.24056788,\n",
       "        7064.86016858, 25865.01445722,  1884.82529902,  9163.52766585,\n",
       "       25880.37801891,  3065.81610276,  4779.83189806, 12998.82726344,\n",
       "       42565.31949615, 25900.77995706, 10150.95884467,  5913.65879024,\n",
       "        6493.63498523, 13159.80081655, 11732.05764097, 17400.19896077,\n",
       "       25837.32788183, 10692.8116946 ,  7616.21100391,  6917.75948283,\n",
       "       36062.19077923,  7010.36144267,  5301.73032188,  6073.40050758,\n",
       "        2385.59390889, 41577.17889561, 12965.40501266,  5208.43367412,\n",
       "        4665.63269979,  6860.87102505,  4219.83147045,  5761.09507044,\n",
       "        6163.29384113, 10236.69466464, 13278.13104326, 12290.01324816,\n",
       "       27446.28063617, 46590.60452518,  6933.35549591,  6298.53205083,\n",
       "       12742.60904059,  7329.62494731,  3516.68355638, 43097.73696518,\n",
       "        7884.43065092, 12211.59541529,  6578.64926403,  7281.16232395,\n",
       "        6056.99938881, 36145.82027322, 19186.71250921,  2008.97381334,\n",
       "       17072.30510826, 40678.28597369,  4551.78012906,  4743.48883866,\n",
       "        6257.07509787, 36895.7996749 , 16578.99814718, 44105.55447204,\n",
       "       12239.30834804,  9272.59205439, 10931.71053277,  2186.85864661,\n",
       "        6671.96689661,  5673.65879218, 44271.35072585,  7636.90421296,\n",
       "       47012.9878627 ,  9658.89098276, 36120.44631464,  2557.59001145,\n",
       "       18749.32899963, 11268.32976513, 14576.45631025, 11955.48174538,\n",
       "        9641.15495746,  2252.42799895,  4540.34304811, 17744.12254654,\n",
       "        4911.17956728,  5395.50461167,  2663.31358962,  1946.57586613,\n",
       "        1984.28218606,  6587.88546486, 18759.1662669 ,  5475.50346597,\n",
       "       13752.86840063, 12850.7313957 , 20171.38497926,  5843.96454655,\n",
       "       17086.72315213, 18478.24335995, 12239.54689448,  8410.12516677,\n",
       "       13842.25122261, 19276.01121129,  5900.90176542, 13345.25910981,\n",
       "       46066.11324514,  7372.06640684,  6403.99065794,  2394.2918766 ,\n",
       "       10773.42671094, 19647.9234516 ,  2445.18232521,  6368.97166027,\n",
       "        5958.60662367, 46866.805538  ,  3119.77541047, 17563.19689859,\n",
       "       20193.52804131, 13875.86827277, 42242.97689172,  6274.79256583,\n",
       "        5918.59912923, 12945.09326491,  6678.4996873 , 10574.02469821,\n",
       "       11993.53761342,  6115.26851004,  6537.21729288, 12935.80857873,\n",
       "       25826.76076446,  2933.03790159,  3005.52519553,  2239.48193166,\n",
       "       36466.86319071, 12236.94136877,  3525.5145588 ,  1704.23128498,\n",
       "       12120.41938442,  5828.49822558,  2907.57388584, 25852.46975313,\n",
       "        6935.05341778, 10361.4272741 ,  9093.00393298,  6383.90341994,\n",
       "        4020.23554016,  3827.67381587, 44753.28415625, 14070.57213693,\n",
       "       25243.52542236, 42937.35301454,  3754.0847701 ,  4151.79246064,\n",
       "       13335.81536376, 10448.57652139,  6140.11735654, 46370.28606487,\n",
       "       11575.32870803,  6153.16648565, 13829.71821098, 43328.67896671,\n",
       "        3015.06061712, 36815.8243489 , 46546.79876387,  4441.61195659,\n",
       "        6354.9901617 , 45625.45437767,  6027.73705974, 11852.18357955,\n",
       "        6851.2736529 ,  6659.7322388 , 12421.08426652, 14590.58487062,\n",
       "       47235.38788691, 12411.88460352,  4833.56487747,  7209.03109475,\n",
       "       17141.84500528,  3543.73889527, 11387.67329066,  2196.55743676,\n",
       "        3465.9794516 ,  4062.3585799 ,  6796.12737037,  4041.15605386,\n",
       "        7600.19268795,  4900.2868448 , 14613.0474845 ,  3052.52079197,\n",
       "        6018.00665837, 11492.59797363, 11057.85962353,  1895.48545348,\n",
       "       15072.41084751,  4934.57748016, 16291.28711747, 46325.96454268,\n",
       "        5399.49106278, 10940.96217715, 18861.78347277, 12699.9572834 ,\n",
       "        7550.67987741,  1709.12982534, 36772.88453408,  6690.9201582 ,\n",
       "        5763.94429934,  8610.50938837, 13566.32070875,  6150.14006494,\n",
       "       11611.36058667,  9667.25466872, 10943.17766352, 12878.56642992,\n",
       "       12710.27967042,  3745.71909028,  5013.28247708, 10614.88040229,\n",
       "       11563.95697672, 11515.03682524,  5373.93860787,  5176.77464153,\n",
       "       10168.00897562,  5845.98392053, 19192.46049593, 19227.32088116,\n",
       "       11679.49006613,  3748.23175918, 42985.57520225,  5782.57231317,\n",
       "       12029.64780439,  7011.28810544, 11931.78627866, 10865.05859894,\n",
       "        4508.13932895,  5025.7872262 ,  6629.59388773,  3247.30548488,\n",
       "       12072.06482797,  6835.32322509,  5801.66677398,  5927.81785888,\n",
       "       20098.7945692 ,  6578.60771598,  9113.04593706,  4666.63401476,\n",
       "       11002.09519614, 12505.88235765, 24015.17526443, 10830.73025015,\n",
       "        7157.00198837, 12011.55871102, 24085.78982774,  4856.08480682,\n",
       "        6299.71470569,  6181.33982558, 12270.47466758, 10527.52622274,\n",
       "       16478.31178347, 46325.96454268,  6109.06312594,  5653.78622913,\n",
       "        9722.11920263, 14328.30844021, 10249.8771572 , 13240.60686977,\n",
       "        2406.20917587, 14498.86572455, 13057.58288121, 10492.88612997,\n",
       "       10609.23324471, 43090.60794613,  3148.31315814, 44396.68893045,\n",
       "       36062.19077923, 13826.39565274,  2139.38963903,  7990.52545202,\n",
       "       10620.56227094,  7355.41986892,  8941.91266081, 17559.08424895,\n",
       "        6966.23942356, 31775.71341847,  6092.23170661, 10880.05009339,\n",
       "       24813.15375774, 11585.92185843,  4115.20607941, 11339.56086571,\n",
       "       43604.49450823,  7496.54722761, 10873.86503418,  6388.10361696,\n",
       "       19430.01300918, 18866.78464951,  5672.70857573,  5555.94082271,\n",
       "        9848.75736001,  4840.30837443, 10847.27639544, 46396.43355032,\n",
       "       10826.9804514 ,  4406.8404817 , 13231.40823647,  7452.14253307,\n",
       "        7791.21208745, 10461.96740343, 22909.34950938, 40933.72803365,\n",
       "        7389.52914937,  4664.37804095, 12838.49257442,  6869.74279054,\n",
       "        7393.077143  ,  6115.17661694,  5682.19060378, 13045.79386842,\n",
       "       11072.11931993, 12087.18843341,  4395.22292941, 23245.10727636,\n",
       "       41987.00735375, 41897.48816499, 46961.78833116,  5043.02903709,\n",
       "       14683.61788567, 12567.84440022, 11947.87261921, 10952.64236356,\n",
       "        9586.70645771, 17384.73301051,  1709.21185679, 23272.60027951,\n",
       "        6465.58450769, 14742.38612392, 25266.74987792, 17764.61077865,\n",
       "       36148.35605225, 17800.75609069, 17649.6505467 , 12056.67937681,\n",
       "        2714.77004054,  6002.24929185, 19314.1560758 ,  9486.79883372,\n",
       "       15307.63788746,  5122.60414801,  8376.94864562, 14115.83547279,\n",
       "        3284.52788757, 17399.0136938 ,  3983.18192894,  5315.89484322,\n",
       "       10145.53523852,  6851.33836982, 19459.19979501, 19291.85134646,\n",
       "       13861.03338567,  5178.00295851,  7263.07435354, 11274.8332395 ,\n",
       "        2901.26868725,  6337.78265612, 23445.34782923, 44276.39027787,\n",
       "       15121.48650081,  6826.79017295,  5083.80072989,  2500.61464981,\n",
       "        6507.58804717,  7975.73433735, 36062.19077923,  5573.90676105,\n",
       "        5990.09200882,  3910.85337149, 14443.4515393 ,  4035.94291111,\n",
       "       10223.39191231, 11825.95627986,  6214.49660555, 13551.41886695,\n",
       "        5781.7480631 ,  9395.78664653,  5234.71335201, 17820.79041504,\n",
       "       17220.33947774,  6324.97666433, 25853.40494483, 25874.06087089,\n",
       "        6452.15205854,  4094.55313629, 47021.21943578,  9818.32113121,\n",
       "        8656.22809995, 12015.85010708,  7184.42760589,  4723.7619933 ,\n",
       "       46511.04236762, 25603.34157634, 10609.20302728, 36786.69325293,\n",
       "       17400.06604537, 14476.42424484,  3139.54722992,  2171.46964729,\n",
       "        4450.14100213, 12644.7970344 ,  2334.50644676,  2253.23445294,\n",
       "       36085.73765382,  5692.98630728, 19636.18939802, 13342.76262087,\n",
       "        6008.21062729, 14715.07997016,  5009.62943755,  5030.59829222,\n",
       "        6494.26691396, 20139.40420314, 19250.13454542, 11960.0346639 ,\n",
       "       13262.30220606, 13120.67153812,  3196.35324833, 12742.75240661,\n",
       "        6271.83102485,  2460.50747259, 38035.26793724,  6832.7747945 ,\n",
       "        3324.13974388,  6549.63281918,  6334.54988836,  6608.18611803,\n",
       "        2095.6429726 , 10615.33801811, 13524.2019084 ,  8425.5260451 ,\n",
       "       44234.34167197,  4806.31191352, 10858.97293633,  7211.15047285,\n",
       "       14782.98593167,  5949.57144548,  8959.60286118, 25255.72069605,\n",
       "       12736.09535789, 13589.19974603, 14332.76730719,  6375.79206514,\n",
       "        6903.41674269, 11906.65772817,  2494.48860176,  4463.82109867,\n",
       "       12961.64816288, 11006.27770738, 13999.0571959 , 13862.77825841,\n",
       "       18592.3261337 , 36265.36934382,  5573.9222069 ,  2695.27971498,\n",
       "        4917.98749751, 12861.8506906 , 11379.7248487 ,  4801.28892292,\n",
       "       13498.74981833, 47088.92892504,  5872.93256249,  9993.61409583,\n",
       "        9519.52370966, 37259.20301239, 11724.2646196 , 12242.52672578,\n",
       "        7137.14247544,  5025.33630008, 15180.49432   ,  3338.0678355 ,\n",
       "        8309.5064435 , 46197.09700722,  2988.78439572,  2739.49995012,\n",
       "       25314.86938677, 10371.84372082, 44268.42598059, 10908.64143229,\n",
       "       17263.02689113, 11896.83461782, 36721.62624081,  9266.10335742,\n",
       "        3804.96767209, 11189.33960357, 22959.79973911, 25864.91287336,\n",
       "       12358.95490322,  3238.79523716,  9049.00916215, 46442.25053617,\n",
       "        4474.97354317,  4387.06102508, 19561.85965866,  2710.8870632 ,\n",
       "       17868.66039003, 14432.87356243,  6667.58772308, 19212.81300673,\n",
       "        5109.37416084,  6225.45691144, 19530.73029268,  9899.63454566,\n",
       "        8620.8554735 , 36865.8738099 , 16902.41072043, 10661.53864009,\n",
       "       10510.63550208,  6304.42560273, 15621.13865978,  2862.97914403,\n",
       "       11977.42306388,  9673.40442939,  4524.00196956, 14464.43629402,\n",
       "        2525.26500783,  2920.282734  , 17566.19214234, 44457.7515678 ,\n",
       "       14419.57747437,  2195.26170113,  5969.3634105 ,  2023.35169329,\n",
       "       44287.38908432, 36121.69536815,  8367.13995332, 25525.65824946,\n",
       "        3057.05923501, 12557.92278636, 11180.98464159, 22938.04489668,\n",
       "        7955.94621931, 11403.8694951 , 25384.50673897,  5929.34201012,\n",
       "       12235.54616011,  5335.99008194, 11098.76104043,  6620.37774428,\n",
       "       19294.42493204, 11809.02571835, 11827.50237266, 12651.40577137,\n",
       "        6396.49680816,  3410.7774013 , 11254.42225701,  6661.55690859,\n",
       "       10866.54015754, 46942.24538375, 25882.01830579, 25260.85387741,\n",
       "        6657.10500749,  7174.32270328,  2739.00067492,  5607.01755494,\n",
       "       10100.85887954, 23894.1387839 , 36130.0889194 ,  3019.92322937,\n",
       "       15657.52918825, 18322.41887159,  1972.05791366, 14967.74492334,\n",
       "       14973.15711494,  4283.61615254, 14502.18687166, 19986.95692682,\n",
       "       24486.28625475,  3201.93134157, 18114.97687565, 11100.78400232,\n",
       "        6730.08027578,  5109.41855517, 11791.689115  , 46254.27866285,\n",
       "       13399.77122155,  7985.27745246, 10441.52494086, 20515.93849725,\n",
       "        7457.24058934,  7113.66363465,  5885.18483494,  6048.89689444,\n",
       "        8914.13819743, 10510.94708958, 11555.55504001,  2564.2637765 ,\n",
       "       11048.56982247,  3130.54545929, 11301.15020419, 16145.82476975,\n",
       "        4519.57347238,  8515.70693584,  5086.96532174, 36873.90153593,\n",
       "        5499.96733953, 36090.88672645,  3422.43378625, 14054.63391391,\n",
       "       10100.24114766, 14837.22510367, 13107.31213895, 16286.81325736,\n",
       "        1927.1775211 ,  9849.78568961, 13912.09838315, 17804.1307289 ,\n",
       "       22884.989791  ,  9364.36771728, 13785.9588989 , 13314.38388919,\n",
       "       13850.86565748,  3376.80591068, 36394.20953476, 46514.96561394,\n",
       "        6082.38710122, 11132.28925966, 11745.52506132,  7078.37990682,\n",
       "       41894.78648799,  8670.81591157,  3275.57977123,  9605.15822256,\n",
       "       11667.0176392 , 16420.82636995, 11903.54656495, 36551.69970761,\n",
       "       12966.45911322, 12732.41318446,  1983.33865015,  1793.1635325 ,\n",
       "       46113.99326424,  5591.06259625,  7811.68512225, 10644.85918986,\n",
       "       18863.04732344,  7256.60372845,  2874.27239953,  1907.71654104,\n",
       "       11666.23961825, 13456.98257143,  9924.39726224, 11256.36572773,\n",
       "        8324.40423533, 14138.51015924, 13860.64024735,  3995.26180667,\n",
       "        9449.6639029 ,  6555.14501405,  8283.17690684,  6690.22468   ,\n",
       "       15070.90169528, 25883.55822604, 12584.20918937,  7051.41317463,\n",
       "       11096.99274543, 36383.04905518,  6155.48272943,  9749.18090817,\n",
       "        5496.65402593,  7836.52164292,  6951.70311601, 16047.25424453,\n",
       "        7452.20846686,  1939.52160414,  9682.07532439,  5260.93913183,\n",
       "       46229.4813795 ,  6136.71380805,  6196.95789532,  3382.65825252,\n",
       "        6221.76803509,  5884.75665764,  3378.48598802,  7566.47528645,\n",
       "       10989.18226008,  5862.16459976, 13683.44096937, 10849.91004761,\n",
       "        8950.53954287,  5763.51972142,  6167.95837517, 14577.89594862,\n",
       "       19367.29313127,  6203.61908929,  9587.54847016, 46137.45053165,\n",
       "        5291.62974052,  6068.08926436,  7491.67850838,  7445.65874785,\n",
       "       13184.78547446,  7410.99652353,  6259.22995813, 14881.93467946,\n",
       "       46321.31516039, 14598.89519487,  5784.57002516, 46285.27564086,\n",
       "       38032.06638896, 36813.99726491,  5684.04271491, 12790.32561835,\n",
       "        4981.27418261,  7859.09953955,  6459.25483656,  6702.42635521,\n",
       "        6054.21899843,  4783.41822524, 10714.21245789, 12721.99569337,\n",
       "        6623.41182199,  5658.79023541, 36815.8243489 , 37789.93260659,\n",
       "       37183.72869137,  3079.78418185, 11284.97096655,  1685.68122607,\n",
       "       11531.58330791, 10252.84044866])"
      ]
     },
     "execution_count": 99,
     "metadata": {},
     "output_type": "execute_result"
    }
   ],
   "source": [
    "y_pred_rf_train_ = rf_reg.predict(X_train_)\n",
    "y_pred_rf_train_"
   ]
  },
  {
   "cell_type": "code",
   "execution_count": 101,
   "metadata": {},
   "outputs": [
    {
     "data": {
      "text/plain": [
       "array([14821.85460432,  8254.94506136,  6660.4381097 , 25847.39563711,\n",
       "       15032.98449379,  6481.60834058, 41251.13743329, 17748.50138012,\n",
       "       17702.51842071, 46198.24610808,  5682.11421047,  5893.71270035,\n",
       "       25240.23433359, 11829.94402772,  8983.94276151, 10681.22522299,\n",
       "        2890.69508956,  1705.3792165 ,  7369.61715276,  6194.65025466,\n",
       "       15033.58583075, 24461.8021903 , 12866.48862296, 11166.10085857,\n",
       "       11124.17148833,  3013.64812097,  7496.95258871, 14747.08975039,\n",
       "       13947.84826869,  2179.81928203,  4570.02334246, 12469.03739327,\n",
       "       10653.2547666 , 11531.65989455, 12669.63351146,  7918.96125651,\n",
       "       11978.00955134,  9248.04853282,  6260.28115951,  6116.98199452,\n",
       "        9188.73983354, 18333.5483466 , 12288.50355642,  3476.25978987,\n",
       "       19302.00042679, 42023.80357295,  7367.61124288,  2876.43118992,\n",
       "        5695.5650867 , 46133.7372082 , 17737.16379837, 12312.1116514 ,\n",
       "       10253.1914538 , 13226.76871495, 16835.30700775, 18393.22299386,\n",
       "       36770.23917146, 11419.15036   ,  9985.20639224,  5924.10363378,\n",
       "        7423.26528382,  5357.60220029, 10219.80755296,  8877.9482924 ,\n",
       "       43961.95454348, 12805.30136287,  9261.74203386, 11591.83104417,\n",
       "        5558.5761163 ,  6738.95203658,  9250.18834111,  4422.45647257,\n",
       "        2057.80637623, 18813.27203935, 25258.9309077 ,  5601.56297645,\n",
       "        4155.82884371, 12222.90078329,  4042.13620569, 10875.419188  ,\n",
       "       37283.30413627,  8398.81334843,  5052.89802549,  5824.92143442,\n",
       "       14996.57744364, 17424.40689517,  7744.20214415,  6660.10027441,\n",
       "       36875.51641466, 25857.66682522, 11831.79410392,  5982.85809203,\n",
       "        3493.82524667, 46657.10481383,  3948.66952609, 46680.50008438,\n",
       "        5086.26209864, 10768.82142678,  1684.15217911,  5124.39164858,\n",
       "       14857.30955224, 14464.15356197, 13030.56800575, 12353.36362168,\n",
       "        5715.86990936, 22052.97962877,  7739.090245  , 14486.95065092,\n",
       "        6317.91865249,  2498.34124705,  2742.91981547,  5298.91347878,\n",
       "       12335.04421965,  7217.25059454, 11754.1481926 ,  5097.98661215,\n",
       "       12956.72306325, 19784.75488344, 10516.35668166,  7544.27818738,\n",
       "       42066.1078158 , 11126.07748822, 14895.72959885, 14515.3655674 ,\n",
       "        9895.1220837 ,  7435.60033338, 11860.58708737, 13771.34544504,\n",
       "       12606.23367719,  2381.05836531, 14323.8053012 ,  4679.59914817,\n",
       "        5780.0319727 , 40698.37268001,  6373.72480463,  4941.21907915,\n",
       "        7154.33680055, 11036.14051632, 19344.77314874,  3312.82590464,\n",
       "       44543.95313988,  4004.41973799, 11260.99378899,  5767.61367483,\n",
       "        2660.69909228,  2469.92933213,  2895.19629437,  6695.64058829,\n",
       "        9018.45994111,  7057.10365231, 13778.901669  ,  5677.16792441,\n",
       "        6693.74410926,  4850.40315004, 44254.7079691 ,  5764.18358492,\n",
       "       10554.78276223,  5108.65115903, 14241.72359828,  6107.96058691,\n",
       "        6078.7710812 , 10787.5206505 ,  7056.71767906, 12952.15906176,\n",
       "       11235.00822149,  7550.89676327, 37150.22183709,  6186.52169915,\n",
       "       14586.39179956, 36872.25280032, 36427.94839227,  7272.45351734,\n",
       "       19940.1494282 , 36093.42250548,  2536.50257744,  7350.59367197,\n",
       "       10257.07094935, 47160.73122025, 11232.70045465,  7219.12123932,\n",
       "       13061.66841768,  3501.67934177, 25839.85062013, 16595.72880425,\n",
       "        8007.05568897, 12468.74931149, 25235.91350875, 36496.03964282,\n",
       "        4361.56131648, 17229.38801893,  5244.17535415,  7041.16650285,\n",
       "        5268.94072342,  7226.24383481,  6527.07320055, 18255.01326848,\n",
       "        5868.331072  , 14429.37971661,  9215.82967562, 42538.85731095,\n",
       "        8839.01214312])"
      ]
     },
     "execution_count": 101,
     "metadata": {},
     "output_type": "execute_result"
    }
   ],
   "source": [
    "y_pred_rf_test_ = rf_reg.predict(X_test_)\n",
    "y_pred_rf_test_"
   ]
  },
  {
   "cell_type": "code",
   "execution_count": 102,
   "metadata": {},
   "outputs": [],
   "source": [
    "r2_score_rf_train_ = r2_score(y_train_, y_pred_rf_train_)\n",
    "r2_score_rf_test_ = r2_score(y_test_, y_pred_rf_test_)"
   ]
  },
  {
   "cell_type": "code",
   "execution_count": 103,
   "metadata": {},
   "outputs": [
    {
     "name": "stdout",
     "output_type": "stream",
     "text": [
      "R2 score (train) : 0.888\n",
      "R2 score (test) : 0.858\n"
     ]
    }
   ],
   "source": [
    "print('R2 score (train) : {0:.3f}'.format(r2_score_rf_train_))\n",
    "print('R2 score (test) : {0:.3f}'.format(r2_score_rf_test_))"
   ]
  },
  {
   "cell_type": "code",
   "execution_count": 105,
   "metadata": {},
   "outputs": [
    {
     "data": {
      "text/plain": [
       "{'id': RangeIndex(start=0, stop=335, step=1),\n",
       " 'charges': array([14821.85460432,  8254.94506136,  6660.4381097 , 25847.39563711,\n",
       "        15032.98449379,  6481.60834058, 41251.13743329, 17748.50138012,\n",
       "        17702.51842071, 46198.24610808,  5682.11421047,  5893.71270035,\n",
       "        25240.23433359, 11829.94402772,  8983.94276151, 10681.22522299,\n",
       "         2890.69508956,  1705.3792165 ,  7369.61715276,  6194.65025466,\n",
       "        15033.58583075, 24461.8021903 , 12866.48862296, 11166.10085857,\n",
       "        11124.17148833,  3013.64812097,  7496.95258871, 14747.08975039,\n",
       "        13947.84826869,  2179.81928203,  4570.02334246, 12469.03739327,\n",
       "        10653.2547666 , 11531.65989455, 12669.63351146,  7918.96125651,\n",
       "        11978.00955134,  9248.04853282,  6260.28115951,  6116.98199452,\n",
       "         9188.73983354, 18333.5483466 , 12288.50355642,  3476.25978987,\n",
       "        19302.00042679, 42023.80357295,  7367.61124288,  2876.43118992,\n",
       "         5695.5650867 , 46133.7372082 , 17737.16379837, 12312.1116514 ,\n",
       "        10253.1914538 , 13226.76871495, 16835.30700775, 18393.22299386,\n",
       "        36770.23917146, 11419.15036   ,  9985.20639224,  5924.10363378,\n",
       "         7423.26528382,  5357.60220029, 10219.80755296,  8877.9482924 ,\n",
       "        43961.95454348, 12805.30136287,  9261.74203386, 11591.83104417,\n",
       "         5558.5761163 ,  6738.95203658,  9250.18834111,  4422.45647257,\n",
       "         2057.80637623, 18813.27203935, 25258.9309077 ,  5601.56297645,\n",
       "         4155.82884371, 12222.90078329,  4042.13620569, 10875.419188  ,\n",
       "        37283.30413627,  8398.81334843,  5052.89802549,  5824.92143442,\n",
       "        14996.57744364, 17424.40689517,  7744.20214415,  6660.10027441,\n",
       "        36875.51641466, 25857.66682522, 11831.79410392,  5982.85809203,\n",
       "         3493.82524667, 46657.10481383,  3948.66952609, 46680.50008438,\n",
       "         5086.26209864, 10768.82142678,  1684.15217911,  5124.39164858,\n",
       "        14857.30955224, 14464.15356197, 13030.56800575, 12353.36362168,\n",
       "         5715.86990936, 22052.97962877,  7739.090245  , 14486.95065092,\n",
       "         6317.91865249,  2498.34124705,  2742.91981547,  5298.91347878,\n",
       "        12335.04421965,  7217.25059454, 11754.1481926 ,  5097.98661215,\n",
       "        12956.72306325, 19784.75488344, 10516.35668166,  7544.27818738,\n",
       "        42066.1078158 , 11126.07748822, 14895.72959885, 14515.3655674 ,\n",
       "         9895.1220837 ,  7435.60033338, 11860.58708737, 13771.34544504,\n",
       "        12606.23367719,  2381.05836531, 14323.8053012 ,  4679.59914817,\n",
       "         5780.0319727 , 40698.37268001,  6373.72480463,  4941.21907915,\n",
       "         7154.33680055, 11036.14051632, 19344.77314874,  3312.82590464,\n",
       "        44543.95313988,  4004.41973799, 11260.99378899,  5767.61367483,\n",
       "         2660.69909228,  2469.92933213,  2895.19629437,  6695.64058829,\n",
       "         9018.45994111,  7057.10365231, 13778.901669  ,  5677.16792441,\n",
       "         6693.74410926,  4850.40315004, 44254.7079691 ,  5764.18358492,\n",
       "        10554.78276223,  5108.65115903, 14241.72359828,  6107.96058691,\n",
       "         6078.7710812 , 10787.5206505 ,  7056.71767906, 12952.15906176,\n",
       "        11235.00822149,  7550.89676327, 37150.22183709,  6186.52169915,\n",
       "        14586.39179956, 36872.25280032, 36427.94839227,  7272.45351734,\n",
       "        19940.1494282 , 36093.42250548,  2536.50257744,  7350.59367197,\n",
       "        10257.07094935, 47160.73122025, 11232.70045465,  7219.12123932,\n",
       "        13061.66841768,  3501.67934177, 25839.85062013, 16595.72880425,\n",
       "         8007.05568897, 12468.74931149, 25235.91350875, 36496.03964282,\n",
       "         4361.56131648, 17229.38801893,  5244.17535415,  7041.16650285,\n",
       "         5268.94072342,  7226.24383481,  6527.07320055, 18255.01326848,\n",
       "         5868.331072  , 14429.37971661,  9215.82967562, 42538.85731095,\n",
       "         8839.01214312])}"
      ]
     },
     "execution_count": 105,
     "metadata": {},
     "output_type": "execute_result"
    }
   ],
   "source": [
    "output_rf = {'id':df_test.index, 'charges':y_pred_rf_test_}\n",
    "output_rf"
   ]
  },
  {
   "cell_type": "code",
   "execution_count": 106,
   "metadata": {},
   "outputs": [
    {
     "data": {
      "text/html": [
       "<div>\n",
       "<style scoped>\n",
       "    .dataframe tbody tr th:only-of-type {\n",
       "        vertical-align: middle;\n",
       "    }\n",
       "\n",
       "    .dataframe tbody tr th {\n",
       "        vertical-align: top;\n",
       "    }\n",
       "\n",
       "    .dataframe thead th {\n",
       "        text-align: right;\n",
       "    }\n",
       "</style>\n",
       "<table border=\"1\" class=\"dataframe\">\n",
       "  <thead>\n",
       "    <tr style=\"text-align: right;\">\n",
       "      <th></th>\n",
       "      <th>0</th>\n",
       "      <th>1</th>\n",
       "      <th>2</th>\n",
       "      <th>3</th>\n",
       "      <th>4</th>\n",
       "      <th>5</th>\n",
       "      <th>6</th>\n",
       "      <th>7</th>\n",
       "      <th>8</th>\n",
       "      <th>9</th>\n",
       "      <th>...</th>\n",
       "      <th>325</th>\n",
       "      <th>326</th>\n",
       "      <th>327</th>\n",
       "      <th>328</th>\n",
       "      <th>329</th>\n",
       "      <th>330</th>\n",
       "      <th>331</th>\n",
       "      <th>332</th>\n",
       "      <th>333</th>\n",
       "      <th>334</th>\n",
       "    </tr>\n",
       "  </thead>\n",
       "  <tbody>\n",
       "    <tr>\n",
       "      <th>id</th>\n",
       "      <td>0.000000</td>\n",
       "      <td>1.000000</td>\n",
       "      <td>2.00000</td>\n",
       "      <td>3.000000</td>\n",
       "      <td>4.000000</td>\n",
       "      <td>5.000000</td>\n",
       "      <td>6.000000</td>\n",
       "      <td>7.00000</td>\n",
       "      <td>8.000000</td>\n",
       "      <td>9.000000</td>\n",
       "      <td>...</td>\n",
       "      <td>325.0</td>\n",
       "      <td>326.0</td>\n",
       "      <td>327.0</td>\n",
       "      <td>328.0</td>\n",
       "      <td>329.0</td>\n",
       "      <td>330.0</td>\n",
       "      <td>331.0</td>\n",
       "      <td>332.0</td>\n",
       "      <td>333.0</td>\n",
       "      <td>334.0</td>\n",
       "    </tr>\n",
       "    <tr>\n",
       "      <th>charges</th>\n",
       "      <td>14821.854604</td>\n",
       "      <td>8254.945061</td>\n",
       "      <td>6660.43811</td>\n",
       "      <td>25847.395637</td>\n",
       "      <td>15032.984494</td>\n",
       "      <td>6481.608341</td>\n",
       "      <td>41251.137433</td>\n",
       "      <td>17748.50138</td>\n",
       "      <td>17702.518421</td>\n",
       "      <td>46198.246108</td>\n",
       "      <td>...</td>\n",
       "      <td>NaN</td>\n",
       "      <td>NaN</td>\n",
       "      <td>NaN</td>\n",
       "      <td>NaN</td>\n",
       "      <td>NaN</td>\n",
       "      <td>NaN</td>\n",
       "      <td>NaN</td>\n",
       "      <td>NaN</td>\n",
       "      <td>NaN</td>\n",
       "      <td>NaN</td>\n",
       "    </tr>\n",
       "  </tbody>\n",
       "</table>\n",
       "<p>2 rows × 335 columns</p>\n",
       "</div>"
      ],
      "text/plain": [
       "                  0            1           2             3             4    \\\n",
       "id           0.000000     1.000000     2.00000      3.000000      4.000000   \n",
       "charges  14821.854604  8254.945061  6660.43811  25847.395637  15032.984494   \n",
       "\n",
       "                 5             6            7             8             9    \\\n",
       "id          5.000000      6.000000      7.00000      8.000000      9.000000   \n",
       "charges  6481.608341  41251.137433  17748.50138  17702.518421  46198.246108   \n",
       "\n",
       "         ...    325    326    327    328    329    330    331    332    333  \\\n",
       "id       ...  325.0  326.0  327.0  328.0  329.0  330.0  331.0  332.0  333.0   \n",
       "charges  ...    NaN    NaN    NaN    NaN    NaN    NaN    NaN    NaN    NaN   \n",
       "\n",
       "           334  \n",
       "id       334.0  \n",
       "charges    NaN  \n",
       "\n",
       "[2 rows x 335 columns]"
      ]
     },
     "execution_count": 106,
     "metadata": {},
     "output_type": "execute_result"
    }
   ],
   "source": [
    "df_rf=pd.DataFrame.from_dict(output_rf, orient='index')\n",
    "df_rf"
   ]
  },
  {
   "cell_type": "code",
   "execution_count": 107,
   "metadata": {},
   "outputs": [
    {
     "data": {
      "text/html": [
       "<div>\n",
       "<style scoped>\n",
       "    .dataframe tbody tr th:only-of-type {\n",
       "        vertical-align: middle;\n",
       "    }\n",
       "\n",
       "    .dataframe tbody tr th {\n",
       "        vertical-align: top;\n",
       "    }\n",
       "\n",
       "    .dataframe thead th {\n",
       "        text-align: right;\n",
       "    }\n",
       "</style>\n",
       "<table border=\"1\" class=\"dataframe\">\n",
       "  <thead>\n",
       "    <tr style=\"text-align: right;\">\n",
       "      <th></th>\n",
       "      <th>id</th>\n",
       "      <th>charges</th>\n",
       "    </tr>\n",
       "  </thead>\n",
       "  <tbody>\n",
       "    <tr>\n",
       "      <th>0</th>\n",
       "      <td>0.0</td>\n",
       "      <td>14821.854604</td>\n",
       "    </tr>\n",
       "    <tr>\n",
       "      <th>1</th>\n",
       "      <td>1.0</td>\n",
       "      <td>8254.945061</td>\n",
       "    </tr>\n",
       "    <tr>\n",
       "      <th>2</th>\n",
       "      <td>2.0</td>\n",
       "      <td>6660.438110</td>\n",
       "    </tr>\n",
       "    <tr>\n",
       "      <th>3</th>\n",
       "      <td>3.0</td>\n",
       "      <td>25847.395637</td>\n",
       "    </tr>\n",
       "    <tr>\n",
       "      <th>4</th>\n",
       "      <td>4.0</td>\n",
       "      <td>15032.984494</td>\n",
       "    </tr>\n",
       "    <tr>\n",
       "      <th>...</th>\n",
       "      <td>...</td>\n",
       "      <td>...</td>\n",
       "    </tr>\n",
       "    <tr>\n",
       "      <th>330</th>\n",
       "      <td>330.0</td>\n",
       "      <td>NaN</td>\n",
       "    </tr>\n",
       "    <tr>\n",
       "      <th>331</th>\n",
       "      <td>331.0</td>\n",
       "      <td>NaN</td>\n",
       "    </tr>\n",
       "    <tr>\n",
       "      <th>332</th>\n",
       "      <td>332.0</td>\n",
       "      <td>NaN</td>\n",
       "    </tr>\n",
       "    <tr>\n",
       "      <th>333</th>\n",
       "      <td>333.0</td>\n",
       "      <td>NaN</td>\n",
       "    </tr>\n",
       "    <tr>\n",
       "      <th>334</th>\n",
       "      <td>334.0</td>\n",
       "      <td>NaN</td>\n",
       "    </tr>\n",
       "  </tbody>\n",
       "</table>\n",
       "<p>335 rows × 2 columns</p>\n",
       "</div>"
      ],
      "text/plain": [
       "        id       charges\n",
       "0      0.0  14821.854604\n",
       "1      1.0   8254.945061\n",
       "2      2.0   6660.438110\n",
       "3      3.0  25847.395637\n",
       "4      4.0  15032.984494\n",
       "..     ...           ...\n",
       "330  330.0           NaN\n",
       "331  331.0           NaN\n",
       "332  332.0           NaN\n",
       "333  333.0           NaN\n",
       "334  334.0           NaN\n",
       "\n",
       "[335 rows x 2 columns]"
      ]
     },
     "execution_count": 107,
     "metadata": {},
     "output_type": "execute_result"
    }
   ],
   "source": [
    "df_rf.transpose()"
   ]
  },
  {
   "cell_type": "code",
   "execution_count": 104,
   "metadata": {},
   "outputs": [
    {
     "data": {
      "text/plain": [
       "array([14821.85460432,  8254.94506136,  6660.4381097 , 25847.39563711,\n",
       "       15032.98449379,  6481.60834058, 41251.13743329, 17748.50138012,\n",
       "       17702.51842071, 46198.24610808,  5682.11421047,  5893.71270035,\n",
       "       25240.23433359, 11829.94402772,  8983.94276151, 10681.22522299,\n",
       "        2890.69508956,  1705.3792165 ,  7369.61715276,  6194.65025466,\n",
       "       15033.58583075, 24461.8021903 , 12866.48862296, 11166.10085857,\n",
       "       11124.17148833,  3013.64812097,  7496.95258871, 14747.08975039,\n",
       "       13947.84826869,  2179.81928203,  4570.02334246, 12469.03739327,\n",
       "       10653.2547666 , 11531.65989455, 12669.63351146,  7918.96125651,\n",
       "       11978.00955134,  9248.04853282,  6260.28115951,  6116.98199452,\n",
       "        9188.73983354, 18333.5483466 , 12288.50355642,  3476.25978987,\n",
       "       19302.00042679, 42023.80357295,  7367.61124288,  2876.43118992,\n",
       "        5695.5650867 , 46133.7372082 , 17737.16379837, 12312.1116514 ,\n",
       "       10253.1914538 , 13226.76871495, 16835.30700775, 18393.22299386,\n",
       "       36770.23917146, 11419.15036   ,  9985.20639224,  5924.10363378,\n",
       "        7423.26528382,  5357.60220029, 10219.80755296,  8877.9482924 ,\n",
       "       43961.95454348, 12805.30136287,  9261.74203386, 11591.83104417,\n",
       "        5558.5761163 ,  6738.95203658,  9250.18834111,  4422.45647257,\n",
       "        2057.80637623, 18813.27203935, 25258.9309077 ,  5601.56297645,\n",
       "        4155.82884371, 12222.90078329,  4042.13620569, 10875.419188  ,\n",
       "       37283.30413627,  8398.81334843,  5052.89802549,  5824.92143442,\n",
       "       14996.57744364, 17424.40689517,  7744.20214415,  6660.10027441,\n",
       "       36875.51641466, 25857.66682522, 11831.79410392,  5982.85809203,\n",
       "        3493.82524667, 46657.10481383,  3948.66952609, 46680.50008438,\n",
       "        5086.26209864, 10768.82142678,  1684.15217911,  5124.39164858,\n",
       "       14857.30955224, 14464.15356197, 13030.56800575, 12353.36362168,\n",
       "        5715.86990936, 22052.97962877,  7739.090245  , 14486.95065092,\n",
       "        6317.91865249,  2498.34124705,  2742.91981547,  5298.91347878,\n",
       "       12335.04421965,  7217.25059454, 11754.1481926 ,  5097.98661215,\n",
       "       12956.72306325, 19784.75488344, 10516.35668166,  7544.27818738,\n",
       "       42066.1078158 , 11126.07748822, 14895.72959885, 14515.3655674 ,\n",
       "        9895.1220837 ,  7435.60033338, 11860.58708737, 13771.34544504,\n",
       "       12606.23367719,  2381.05836531, 14323.8053012 ,  4679.59914817,\n",
       "        5780.0319727 , 40698.37268001,  6373.72480463,  4941.21907915,\n",
       "        7154.33680055, 11036.14051632, 19344.77314874,  3312.82590464,\n",
       "       44543.95313988,  4004.41973799, 11260.99378899,  5767.61367483,\n",
       "        2660.69909228,  2469.92933213,  2895.19629437,  6695.64058829,\n",
       "        9018.45994111,  7057.10365231, 13778.901669  ,  5677.16792441,\n",
       "        6693.74410926,  4850.40315004, 44254.7079691 ,  5764.18358492,\n",
       "       10554.78276223,  5108.65115903, 14241.72359828,  6107.96058691,\n",
       "        6078.7710812 , 10787.5206505 ,  7056.71767906, 12952.15906176,\n",
       "       11235.00822149,  7550.89676327, 37150.22183709,  6186.52169915,\n",
       "       14586.39179956, 36872.25280032, 36427.94839227,  7272.45351734,\n",
       "       19940.1494282 , 36093.42250548,  2536.50257744,  7350.59367197,\n",
       "       10257.07094935, 47160.73122025, 11232.70045465,  7219.12123932,\n",
       "       13061.66841768,  3501.67934177, 25839.85062013, 16595.72880425,\n",
       "        8007.05568897, 12468.74931149, 25235.91350875, 36496.03964282,\n",
       "        4361.56131648, 17229.38801893,  5244.17535415,  7041.16650285,\n",
       "        5268.94072342,  7226.24383481,  6527.07320055, 18255.01326848,\n",
       "        5868.331072  , 14429.37971661,  9215.82967562, 42538.85731095,\n",
       "        8839.01214312])"
      ]
     },
     "execution_count": 104,
     "metadata": {},
     "output_type": "execute_result"
    }
   ],
   "source": [
    "final_predictions_rf = y_pred_rf_test_\n",
    "final_predictions_rf"
   ]
  },
  {
   "cell_type": "code",
   "execution_count": 109,
   "metadata": {},
   "outputs": [],
   "source": [
    "file_rf= df_rf.to_csv('Medical Cost Prediction.csv', index=False, header=False)\n",
    "file_rf"
   ]
  },
  {
   "cell_type": "code",
   "execution_count": 111,
   "metadata": {},
   "outputs": [],
   "source": [
    "models = [('Linear Regression', r2_score_train, r2_score_test),\n",
    "          ('Random Forest Regression', r2_score_rf_train_, r2_score_rf_test_)]"
   ]
  },
  {
   "cell_type": "code",
   "execution_count": 117,
   "metadata": {},
   "outputs": [
    {
     "data": {
      "text/html": [
       "<div>\n",
       "<style scoped>\n",
       "    .dataframe tbody tr th:only-of-type {\n",
       "        vertical-align: middle;\n",
       "    }\n",
       "\n",
       "    .dataframe tbody tr th {\n",
       "        vertical-align: top;\n",
       "    }\n",
       "\n",
       "    .dataframe thead th {\n",
       "        text-align: right;\n",
       "    }\n",
       "</style>\n",
       "<table border=\"1\" class=\"dataframe\">\n",
       "  <thead>\n",
       "    <tr style=\"text-align: right;\">\n",
       "      <th></th>\n",
       "      <th>Model</th>\n",
       "      <th>R2_Score(training)</th>\n",
       "      <th>R2_Score(test)</th>\n",
       "    </tr>\n",
       "  </thead>\n",
       "  <tbody>\n",
       "    <tr>\n",
       "      <th>0</th>\n",
       "      <td>Linear Regression</td>\n",
       "      <td>0.755198</td>\n",
       "      <td>0.699777</td>\n",
       "    </tr>\n",
       "    <tr>\n",
       "      <th>1</th>\n",
       "      <td>Random Forest Regression</td>\n",
       "      <td>0.887764</td>\n",
       "      <td>0.857664</td>\n",
       "    </tr>\n",
       "  </tbody>\n",
       "</table>\n",
       "</div>"
      ],
      "text/plain": [
       "                      Model  R2_Score(training)  R2_Score(test)\n",
       "0         Linear Regression            0.755198        0.699777\n",
       "1  Random Forest Regression            0.887764        0.857664"
      ]
     },
     "execution_count": 117,
     "metadata": {},
     "output_type": "execute_result"
    }
   ],
   "source": [
    "predict = pd.DataFrame(data = models, columns=['Model', 'R2_Score(training)', 'R2_Score(test)'])\n",
    "predict"
   ]
  },
  {
   "cell_type": "code",
   "execution_count": 93,
   "metadata": {},
   "outputs": [
    {
     "data": {
      "text/html": [
       "<div>\n",
       "<style scoped>\n",
       "    .dataframe tbody tr th:only-of-type {\n",
       "        vertical-align: middle;\n",
       "    }\n",
       "\n",
       "    .dataframe tbody tr th {\n",
       "        vertical-align: top;\n",
       "    }\n",
       "\n",
       "    .dataframe thead th {\n",
       "        text-align: right;\n",
       "    }\n",
       "</style>\n",
       "<table border=\"1\" class=\"dataframe\">\n",
       "  <thead>\n",
       "    <tr style=\"text-align: right;\">\n",
       "      <th></th>\n",
       "      <th>764.00000</th>\n",
       "      <th>9095.06825</th>\n",
       "    </tr>\n",
       "  </thead>\n",
       "  <tbody>\n",
       "    <tr>\n",
       "      <th>0</th>\n",
       "      <td>887</td>\n",
       "      <td>5272.17580</td>\n",
       "    </tr>\n",
       "    <tr>\n",
       "      <th>1</th>\n",
       "      <td>890</td>\n",
       "      <td>29330.98315</td>\n",
       "    </tr>\n",
       "    <tr>\n",
       "      <th>2</th>\n",
       "      <td>1293</td>\n",
       "      <td>9301.89355</td>\n",
       "    </tr>\n",
       "    <tr>\n",
       "      <th>3</th>\n",
       "      <td>259</td>\n",
       "      <td>33750.29180</td>\n",
       "    </tr>\n",
       "    <tr>\n",
       "      <th>4</th>\n",
       "      <td>1312</td>\n",
       "      <td>4536.25900</td>\n",
       "    </tr>\n",
       "    <tr>\n",
       "      <th>5</th>\n",
       "      <td>899</td>\n",
       "      <td>2117.33885</td>\n",
       "    </tr>\n",
       "    <tr>\n",
       "      <th>6</th>\n",
       "      <td>752</td>\n",
       "      <td>14210.53595</td>\n",
       "    </tr>\n",
       "    <tr>\n",
       "      <th>7</th>\n",
       "      <td>1286</td>\n",
       "      <td>3732.62510</td>\n",
       "    </tr>\n",
       "    <tr>\n",
       "      <th>8</th>\n",
       "      <td>707</td>\n",
       "      <td>10264.44210</td>\n",
       "    </tr>\n",
       "    <tr>\n",
       "      <th>9</th>\n",
       "      <td>780</td>\n",
       "      <td>18259.21600</td>\n",
       "    </tr>\n",
       "    <tr>\n",
       "      <th>10</th>\n",
       "      <td>567</td>\n",
       "      <td>7256.72310</td>\n",
       "    </tr>\n",
       "    <tr>\n",
       "      <th>11</th>\n",
       "      <td>76</td>\n",
       "      <td>3947.41310</td>\n",
       "    </tr>\n",
       "    <tr>\n",
       "      <th>12</th>\n",
       "      <td>265</td>\n",
       "      <td>46151.12450</td>\n",
       "    </tr>\n",
       "    <tr>\n",
       "      <th>13</th>\n",
       "      <td>901</td>\n",
       "      <td>48673.55880</td>\n",
       "    </tr>\n",
       "    <tr>\n",
       "      <th>14</th>\n",
       "      <td>893</td>\n",
       "      <td>44202.65360</td>\n",
       "    </tr>\n",
       "    <tr>\n",
       "      <th>15</th>\n",
       "      <td>650</td>\n",
       "      <td>9800.88820</td>\n",
       "    </tr>\n",
       "    <tr>\n",
       "      <th>16</th>\n",
       "      <td>615</td>\n",
       "      <td>42969.85270</td>\n",
       "    </tr>\n",
       "    <tr>\n",
       "      <th>17</th>\n",
       "      <td>538</td>\n",
       "      <td>8233.09750</td>\n",
       "    </tr>\n",
       "    <tr>\n",
       "      <th>18</th>\n",
       "      <td>916</td>\n",
       "      <td>21774.32215</td>\n",
       "    </tr>\n",
       "  </tbody>\n",
       "</table>\n",
       "</div>"
      ],
      "text/plain": [
       "    764.00000    9095.06825\n",
       "0          887   5272.17580\n",
       "1          890  29330.98315\n",
       "2         1293   9301.89355\n",
       "3          259  33750.29180\n",
       "4         1312   4536.25900\n",
       "5          899   2117.33885\n",
       "6          752  14210.53595\n",
       "7         1286   3732.62510\n",
       "8          707  10264.44210\n",
       "9          780  18259.21600\n",
       "10         567   7256.72310\n",
       "11          76   3947.41310\n",
       "12         265  46151.12450\n",
       "13         901  48673.55880\n",
       "14         893  44202.65360\n",
       "15         650   9800.88820\n",
       "16         615  42969.85270\n",
       "17         538   8233.09750\n",
       "18         916  21774.32215"
      ]
     },
     "execution_count": 93,
     "metadata": {},
     "output_type": "execute_result"
    }
   ],
   "source": [
    "from pandas import read_excel\n",
    "submission = pd.read_excel(r'C:/Users/INTEL/Downloads/sample_submission.csv.xlsx')\n",
    "submission"
   ]
  },
  {
   "cell_type": "code",
   "execution_count": 94,
   "metadata": {},
   "outputs": [],
   "source": [
    "def UniqueResults(dataframe):\n",
    "    df = pd.DataFrame()\n",
    "    for col in dataframe:\n",
    "        S=pd.Series(dataframe[col].unique())\n",
    "        df[col]=S.values\n",
    "    return df"
   ]
  },
  {
   "cell_type": "code",
   "execution_count": 92,
   "metadata": {},
   "outputs": [
    {
     "data": {
      "text/plain": [
       "array([10956.96260416,  9508.67292482, 30310.22504337,  9608.64482875,\n",
       "       12852.54680701, 12109.95713299, 28331.56989216, 12076.86351245,\n",
       "         556.05717882,  9256.61835061,  5545.01743532, 16541.25810156,\n",
       "        8820.73232633,  9833.75030202, 36862.72612848, 34764.92635228,\n",
       "       13816.07252624, 29224.48949678, 11074.29888163,  5766.78138453,\n",
       "        3416.07394709, 11091.2638688 , 34413.19259716,  6526.89164478,\n",
       "        8560.38095533,  5217.32601925, 10116.81106601,  4021.70708705,\n",
       "        6515.91774991, 25659.77115241, 29481.45607365,  3426.21240446,\n",
       "       17061.05935796,   842.3343721 ,  9293.84922107, 15665.53641362,\n",
       "       10202.13228316, 36230.17200531, 26760.82023998,  8972.47715007,\n",
       "        4590.60513878,  9776.4504303 , 10438.05315867, 10549.17357391,\n",
       "       13421.39383694,  6927.5171642 , 10923.10317855,  -977.69920696,\n",
       "         -98.02655317, 12150.51454915,  7411.34541093, 16270.93796147,\n",
       "       13095.86148458,  3565.99994596,  1798.73383055,  7557.02853544,\n",
       "        7246.01767198, 38271.84851448, 12355.61026479,  1458.72228171,\n",
       "       28397.53890284, 37009.84141495, 13087.97391037,  3158.73248209,\n",
       "       16263.12273895,  5157.28397991, 15679.84147541, 25958.31383567,\n",
       "       12440.6034028 ,  5614.87776429,  9321.36121129, 13676.70775357,\n",
       "       26902.27737242,  7623.24948976,  3983.56018728,  1629.28268526,\n",
       "       35193.57122535, 28892.44693957, 37463.10519705, 29198.78659183,\n",
       "        8590.07980231, 33573.53248387,  1090.52150285,  6946.44199501,\n",
       "        4689.47975168,  4550.96460414, 10774.97344351,  8394.23154472,\n",
       "        3027.805408  , 35212.96783221, 26813.97859561, 12038.41556655,\n",
       "       15101.64890829, 29422.43448169, 12747.98683138, 29038.74568724,\n",
       "        5299.57035407, 28625.66098037,  8801.81259501,  7857.09321961,\n",
       "       12432.0099747 , 12295.04295319,  9136.74780847, 10416.88096007,\n",
       "       10840.55065933, 15122.00223659,  1400.28641274,  8041.72894614,\n",
       "        9276.29485325,  1650.18031088, 15266.77614014, 11434.92719104,\n",
       "        5591.89722139,   484.62011473,  9825.8567343 ,  2227.75392409,\n",
       "       11102.71436214, 34566.09644366,  9471.99879621,  9596.07621525,\n",
       "        3795.58993256,  3526.97961043, 29675.72046639,  7797.24219512,\n",
       "        5242.58925274,  9658.45357534,  1200.46161277,  6464.12214013,\n",
       "       12017.60843028, 14220.0388877 , 29928.74587134,  8982.0385861 ,\n",
       "       15176.19195189,  9761.45725242, 12837.94320325,  7261.50218354,\n",
       "       33833.53240374,  9762.4202402 ,  7334.28436126, 15442.69951302,\n",
       "       10925.67394814, 39128.66221286,  4925.2133132 , 13038.46056007,\n",
       "        5524.90156876, 13609.13051173,  7311.43431796, 10618.60686898,\n",
       "        4125.78011406, 13571.05962463, 11782.70959539, 29157.53602984,\n",
       "       24528.08569785,  1142.69015243, 29627.04072938, 10177.08988084,\n",
       "        3159.30161424,  8365.02391558, 23827.75889151,  9555.57950401,\n",
       "        5654.40280255, 30857.17319761, 30062.21199099, 30442.17101971,\n",
       "        4956.38215511, 31013.10141746,  9773.72500121,  1583.22854874,\n",
       "       30440.51697559,  9109.35890262,  7519.08849992,   496.16687847,\n",
       "        7578.20809096,  8753.5747987 ,  8983.48240367, 32197.16297859,\n",
       "       36321.08995563,  8185.9432234 ,  9027.87864059,  9214.87791765,\n",
       "        5289.24122748, 32122.67275692, 14343.26151929, 12836.79051568,\n",
       "        3047.0151054 ,  1959.91802978, 33018.50760755, 14438.8627008 ,\n",
       "       10932.64378416,  6455.96248878,  7075.25169477,  5145.23415691,\n",
       "        3123.87120304, 13757.36971488,  2608.89914825,  6854.45754946,\n",
       "        2476.31351479, 15097.55598807,  3943.44490679, 11103.65746327,\n",
       "        7107.21619479])"
      ]
     },
     "execution_count": 92,
     "metadata": {},
     "output_type": "execute_result"
    }
   ],
   "source": [
    "final_predictions = y_pred_test\n",
    "final_predictions"
   ]
  },
  {
   "cell_type": "code",
   "execution_count": null,
   "metadata": {},
   "outputs": [],
   "source": []
  }
 ],
 "metadata": {
  "kernelspec": {
   "display_name": "Python 3",
   "language": "python",
   "name": "python3"
  },
  "language_info": {
   "codemirror_mode": {
    "name": "ipython",
    "version": 3
   },
   "file_extension": ".py",
   "mimetype": "text/x-python",
   "name": "python",
   "nbconvert_exporter": "python",
   "pygments_lexer": "ipython3",
   "version": "3.8.3"
  }
 },
 "nbformat": 4,
 "nbformat_minor": 4
}
